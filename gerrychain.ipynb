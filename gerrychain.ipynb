{
 "cells": [
  {
   "cell_type": "code",
   "execution_count": 1,
   "id": "9dd2a2b7-4836-4cf0-b316-ca8a3405f74a",
   "metadata": {},
   "outputs": [
    {
     "name": "stderr",
     "output_type": "stream",
     "text": [
      "/opt/anaconda3/lib/python3.9/site-packages/pandas/core/computation/expressions.py:21: UserWarning: Pandas requires version '2.8.4' or newer of 'numexpr' (version '2.8.1' currently installed).\n",
      "  from pandas.core.computation.check import NUMEXPR_INSTALLED\n",
      "/opt/anaconda3/lib/python3.9/site-packages/pandas/core/arrays/masked.py:60: UserWarning: Pandas requires version '1.3.6' or newer of 'bottleneck' (version '1.3.4' currently installed).\n",
      "  from pandas.core import (\n"
     ]
    }
   ],
   "source": [
    "#!/usr/bin/env python3\n",
    "# -*- coding: utf-8 -*-\n",
    "\"\"\"\n",
    "Created on Thu Jan 18 10:26:42 2024\n",
    "\n",
    "@author: eveomett\n",
    "\n",
    "Author: Ellen Veomett\n",
    "\n",
    "for AI for Redistricting\n",
    "\n",
    "Lab 3, spring 2024\n",
    "\"\"\"\n",
    "\n",
    "import matplotlib.pyplot as plt\n",
    "from gerrychain import Graph, Partition, proposals, updaters, constraints, accept, MarkovChain, Election\n",
    "from gerrychain.updaters import cut_edges, Tally\n",
    "from gerrychain.proposals import recom\n",
    "from gerrychain.accept import always_accept\n",
    "from functools import partial\n",
    "import time\n",
    "start_time = time.time()"
   ]
  },
  {
   "cell_type": "code",
   "execution_count": 2,
   "id": "0f8b2635-50eb-4678-907f-5641af4d57a3",
   "metadata": {},
   "outputs": [],
   "source": [
    "state_ab = \"nc\""
   ]
  },
  {
   "cell_type": "code",
   "execution_count": 3,
   "id": "7b8ff51c-f48a-4c8e-b6d2-3208d0227c65",
   "metadata": {},
   "outputs": [],
   "source": [
    "il_graph = Graph.from_json(\"./{}/{}.json\".format(state_ab, state_ab))"
   ]
  },
  {
   "cell_type": "markdown",
   "id": "84edd719-b9a1-48ab-8baf-00014993e9bb",
   "metadata": {},
   "source": [
    "# CDelection_df"
   ]
  },
  {
   "cell_type": "code",
   "execution_count": 4,
   "id": "ae865d45-ced1-48e5-94f0-67c561c3a9b4",
   "metadata": {},
   "outputs": [
    {
     "name": "stdout",
     "output_type": "stream",
     "text": [
      "<Partition [14 parts]>\n"
     ]
    }
   ],
   "source": [
    "cutedge_ensemble = []\n",
    "dem_ensemble = []\n",
    "\n",
    "# Create an initial partition\n",
    "initial_partition = Partition(\n",
    "    il_graph,\n",
    "    assignment=\"CD\", # change it to SEND / HDIST\n",
    "    updaters={\n",
    "        \"Dem\": Election(\n",
    "            \"2020 presidential\", {\"Dem\": \"PRE20D\", \"Rep\": \"PRE20R\"}, alias=\"Dem\"\n",
    "        ),\n",
    "        \"total population\": Tally(\"TOTPOP\", alias=\"total population\"),\n",
    "        \"latino population\": Tally(\"HISP\", alias=\"latino population\"),\n",
    "        \"cut_edges\": cut_edges,\n",
    "    },\n",
    ")\n",
    "\n",
    "print(initial_partition)"
   ]
  },
  {
   "cell_type": "code",
   "execution_count": 5,
   "id": "dbdff436-2897-4942-acb7-59ed75f635fa",
   "metadata": {},
   "outputs": [],
   "source": [
    "num_dist = len(initial_partition)\n",
    "total_pop = sum([il_graph.nodes()[v][\"TOTPOP\"] for v in il_graph.nodes()])\n",
    "ideal_pop = total_pop / num_dist\n",
    "pop_toleration = 0.05"
   ]
  },
  {
   "cell_type": "code",
   "execution_count": 6,
   "id": "924b7288-d283-46fc-9d71-ae5206246a58",
   "metadata": {},
   "outputs": [],
   "source": [
    "# Create a proposal\n",
    "proposal = partial(\n",
    "    recom,\n",
    "    pop_col=\"TOTPOP\",\n",
    "    pop_target=ideal_pop,\n",
    "    epsilon=pop_toleration,\n",
    "    node_repeats=2,\n",
    ")\n",
    "\n",
    "population_constraint = constraints.within_percent_of_ideal_population(\n",
    "    initial_partition, pop_toleration, pop_key=\"total population\"\n",
    ")"
   ]
  },
  {
   "cell_type": "code",
   "execution_count": 7,
   "id": "c7b59425-c1e7-46dc-aa7b-0b481b4bfcec",
   "metadata": {},
   "outputs": [],
   "source": [
    "# Create a Markov chain\n",
    "chain = MarkovChain(\n",
    "    proposal=proposal,\n",
    "    constraints=[population_constraint],\n",
    "    accept=always_accept,\n",
    "    initial_state=initial_partition,\n",
    "    total_steps=600,  # choosing 6000 because i tried 1,000 and it was not enough. also tried 10,000 and it was kinda similar to 6,000. so i decided to go with 6,000..\n",
    ")"
   ]
  },
  {
   "cell_type": "code",
   "execution_count": 8,
   "id": "91978ba9-e5c7-4e0f-b698-0e8b819c7d2c",
   "metadata": {
    "tags": []
   },
   "outputs": [],
   "source": [
    "for part in chain:\n",
    "    cutedge_ensemble.append(len(part[\"cut_edges\"]))\n",
    "    dem_ensemble.append(part[\"Dem\"].wins(\"Dem\"))"
   ]
  },
  {
   "cell_type": "code",
   "execution_count": 9,
   "id": "93913ca2-2aaf-4813-a5a4-a88165a622a7",
   "metadata": {},
   "outputs": [
    {
     "name": "stdout",
     "output_type": "stream",
     "text": [
      "The time of execution of above program is : 0.6913123488426208 mins\n"
     ]
    },
    {
     "data": {
      "image/png": "[encoded data removed]",
      "text/plain": [
       "<Figure size 432x288 with 1 Axes>"
      ]
     },
     "metadata": {
      "needs_background": "light"
     },
     "output_type": "display_data"
    },
    {
     "data": {
      "image/png": "[encoded data removed]",
      "text/plain": [
       "<Figure size 432x288 with 1 Axes>"
      ]
     },
     "metadata": {
      "needs_background": "light"
     },
     "output_type": "display_data"
    }
   ],
   "source": [
    "# Draw histogram of number of cut edges in the plan\n",
    "plt.figure()\n",
    "plt.hist(cutedge_ensemble, align=\"left\")\n",
    "plt.xlabel(\"Number of cut edges\")\n",
    "plt.ylabel(\"Frequency\")\n",
    "plt.savefig(\"cutedge_ensemble.png\")\n",
    "\n",
    "# Draw histogram of number of districts won by Democrats\n",
    "plt.figure()\n",
    "plt.hist(dem_ensemble, align=\"left\")\n",
    "plt.xlabel(\"Number of districts won by Democrats\")\n",
    "plt.ylabel(\"Frequency\")\n",
    "plt.savefig(\"democrate_ensemble.png\")\n",
    "\n",
    "end_time = time.time()\n",
    "print(\"The time of execution of above program is :\",\n",
    "      (end_time-start_time)/60, \"mins\")"
   ]
  },
  {
   "cell_type": "markdown",
   "id": "2d84b73b-52ae-446d-a1d7-0dc1bc5572be",
   "metadata": {},
   "source": [
    "# SEND"
   ]
  },
  {
   "cell_type": "code",
   "execution_count": 10,
   "id": "1c8294b7-9e78-4455-9f1d-e7e0943cb5a4",
   "metadata": {},
   "outputs": [
    {
     "name": "stdout",
     "output_type": "stream",
     "text": [
      "<Partition [50 parts]>\n"
     ]
    }
   ],
   "source": [
    "cutedge_ensemble = []\n",
    "dem_ensemble = []\n",
    "\n",
    "# Create an initial partition\n",
    "initial_partition = Partition(\n",
    "    il_graph,\n",
    "    assignment=\"SEND\", # change it to SEND / HDIST\n",
    "    updaters={\n",
    "        \"Dem\": Election(\n",
    "            \"2020 presidential\", {\"Dem\": \"PRE20D\", \"Rep\": \"PRE20R\"}, alias=\"Dem\"\n",
    "        ),\n",
    "        \"total population\": Tally(\"TOTPOP\", alias=\"total population\"),\n",
    "        \"latino population\": Tally(\"HISP\", alias=\"latino population\"),\n",
    "        \"cut_edges\": cut_edges,\n",
    "    },\n",
    ")\n",
    "\n",
    "print(initial_partition)"
   ]
  },
  {
   "cell_type": "code",
   "execution_count": 11,
   "id": "96b16df4-d374-46e8-975d-4afb7d1804a2",
   "metadata": {},
   "outputs": [],
   "source": [
    "num_dist = len(initial_partition)\n",
    "total_pop = sum([il_graph.nodes()[v][\"TOTPOP\"] for v in il_graph.nodes()])\n",
    "ideal_pop = total_pop / num_dist\n",
    "pop_toleration = 0.5"
   ]
  },
  {
   "cell_type": "code",
   "execution_count": 12,
   "id": "c3d86641-c1f4-42ef-9457-cc95de85779e",
   "metadata": {},
   "outputs": [],
   "source": [
    "# Create a proposal\n",
    "proposal = partial(\n",
    "    recom,\n",
    "    pop_col=\"TOTPOP\",\n",
    "    pop_target=ideal_pop,\n",
    "    epsilon=pop_toleration,\n",
    "    node_repeats=2,\n",
    ")\n",
    "\n",
    "population_constraint = constraints.within_percent_of_ideal_population(\n",
    "    initial_partition, pop_toleration, pop_key=\"total population\"\n",
    ")"
   ]
  },
  {
   "cell_type": "code",
   "execution_count": 13,
   "id": "971e91ac-29bc-47d8-9e20-1823f34499e8",
   "metadata": {},
   "outputs": [],
   "source": [
    "# Create a Markov chain\n",
    "chain = MarkovChain(\n",
    "    proposal=proposal,\n",
    "    constraints=[population_constraint],\n",
    "    accept=always_accept,\n",
    "    initial_state=initial_partition,\n",
    "    total_steps=600,  # choosing 6000 because i tried 1,000 and it was not enough. also tried 10,000 and it was kinda similar to 6,000. so i decided to go with 6,000..\n",
    ")"
   ]
  },
  {
   "cell_type": "code",
   "execution_count": 14,
   "id": "31c47a27-cfb1-4c2e-a0df-06d5d8f2a079",
   "metadata": {},
   "outputs": [],
   "source": [
    "for part in chain:\n",
    "    cutedge_ensemble.append(len(part[\"cut_edges\"]))\n",
    "    dem_ensemble.append(part[\"Dem\"].wins(\"Dem\"))"
   ]
  },
  {
   "cell_type": "code",
   "execution_count": 15,
   "id": "e4b443a5-9603-4aed-8030-8f6c9de70217",
   "metadata": {},
   "outputs": [
    {
     "name": "stdout",
     "output_type": "stream",
     "text": [
      "The time of execution of above program is : 0.846931767463684 mins\n"
     ]
    },
    {
     "data": {
      "image/png": "[encoded data removed]",
      "text/plain": [
       "<Figure size 432x288 with 1 Axes>"
      ]
     },
     "metadata": {
      "needs_background": "light"
     },
     "output_type": "display_data"
    },
    {
     "data": {
      "image/png": "[encoded data removed]",
      "text/plain": [
       "<Figure size 432x288 with 1 Axes>"
      ]
     },
     "metadata": {
      "needs_background": "light"
     },
     "output_type": "display_data"
    }
   ],
   "source": [
    "# Draw histogram of number of cut edges in the plan\n",
    "plt.figure()\n",
    "plt.hist(cutedge_ensemble, align=\"left\")\n",
    "plt.xlabel(\"Number of cut edges\")\n",
    "plt.ylabel(\"Frequency\")\n",
    "plt.savefig(\"cutedge_ensemble.png\")\n",
    "\n",
    "# Draw histogram of number of districts won by Democrats\n",
    "plt.figure()\n",
    "plt.hist(dem_ensemble, align=\"left\")\n",
    "plt.xlabel(\"Number of districts won by Democrats\")\n",
    "plt.ylabel(\"Frequency\")\n",
    "plt.savefig(\"democrate_ensemble.png\")\n",
    "\n",
    "end_time = time.time()\n",
    "print(\"The time of execution of above program is :\",\n",
    "      (end_time-start_time)/60, \"mins\")"
   ]
  },
  {
   "cell_type": "markdown",
   "id": "4d835c9e-535b-41af-96fe-03c7dab8943c",
   "metadata": {},
   "source": [
    "# HDIST"
   ]
  },
  {
   "cell_type": "code",
   "execution_count": 16,
   "id": "c3e11d29-7614-4ffb-ac5f-1f34c8c1f72c",
   "metadata": {},
   "outputs": [
    {
     "name": "stdout",
     "output_type": "stream",
     "text": [
      "<Partition [120 parts]>\n"
     ]
    }
   ],
   "source": [
    "cutedge_ensemble = []\n",
    "dem_ensemble = []\n",
    "\n",
    "\n",
    "# Create an initial partition\n",
    "initial_partition = Partition(\n",
    "    il_graph,\n",
    "    assignment=\"HDIST\", # change it to SEND / HDIST\n",
    "    updaters={\n",
    "        \"Dem\": Election(\n",
    "            \"2020 presidential\", {\"Dem\": \"PRE20D\", \"Rep\": \"PRE20R\"}, alias=\"Dem\"\n",
    "        ),\n",
    "        \"total population\": Tally(\"TOTPOP\", alias=\"total population\"),\n",
    "        \"latino population\": Tally(\"HISP\", alias=\"latino population\"),\n",
    "        \"cut_edges\": cut_edges,\n",
    "    },\n",
    ")\n",
    "\n",
    "print(initial_partition)"
   ]
  },
  {
   "cell_type": "code",
   "execution_count": 17,
   "id": "4910ec8d-c982-4e91-bb1f-b8234b2debb3",
   "metadata": {},
   "outputs": [],
   "source": [
    "num_dist = len(initial_partition)\n",
    "total_pop = sum([il_graph.nodes()[v][\"TOTPOP\"] for v in il_graph.nodes()])\n",
    "ideal_pop = total_pop / num_dist\n",
    "pop_toleration = 0.8"
   ]
  },
  {
   "cell_type": "code",
   "execution_count": 18,
   "id": "49a2b1cb-64da-4866-8ace-ff56219c86af",
   "metadata": {},
   "outputs": [],
   "source": [
    "# Create a proposal\n",
    "proposal = partial(\n",
    "    recom,\n",
    "    pop_col=\"TOTPOP\",\n",
    "    pop_target=ideal_pop,\n",
    "    epsilon=pop_toleration,\n",
    "    node_repeats=2,\n",
    ")\n",
    "\n",
    "population_constraint = constraints.within_percent_of_ideal_population(\n",
    "    initial_partition, pop_toleration, pop_key=\"total population\"\n",
    ")"
   ]
  },
  {
   "cell_type": "code",
   "execution_count": 19,
   "id": "6bce63ad-0c37-4740-9938-9d678e80638e",
   "metadata": {},
   "outputs": [],
   "source": [
    "# Create a Markov chain\n",
    "chain = MarkovChain(\n",
    "    proposal=proposal,\n",
    "    constraints=[population_constraint],\n",
    "    accept=always_accept,\n",
    "    initial_state=initial_partition,\n",
    "    total_steps=600,  # choosing 6000 because i tried 1,000 and it was not enough. also tried 10,000 and it was kinda similar to 6,000. so i decided to go with 6,000..\n",
    ")"
   ]
  },
  {
   "cell_type": "code",
   "execution_count": 20,
   "id": "1f199de9-0a14-4388-abd2-158a265ce83e",
   "metadata": {},
   "outputs": [],
   "source": [
    "for part in chain:\n",
    "    cutedge_ensemble.append(len(part[\"cut_edges\"]))\n",
    "    dem_ensemble.append(part[\"Dem\"].wins(\"Dem\"))"
   ]
  },
  {
   "cell_type": "code",
   "execution_count": 22,
   "id": "3c3061b4-c6e3-4903-a8ad-283cfbdfa241",
   "metadata": {},
   "outputs": [
    {
     "name": "stdout",
     "output_type": "stream",
     "text": [
      "The time of execution of above program is : 5.39258451461792 mins\n"
     ]
    },
    {
     "data": {
      "image/png": "[encoded data removed]",
      "text/plain": [
       "<Figure size 432x288 with 1 Axes>"
      ]
     },
     "metadata": {
      "needs_background": "light"
     },
     "output_type": "display_data"
    },
    {
     "data": {
      "image/png": "[encoded data removed]",
      "text/plain": [
       "<Figure size 432x288 with 1 Axes>"
      ]
     },
     "metadata": {
      "needs_background": "light"
     },
     "output_type": "display_data"
    }
   ],
   "source": [
    "# Draw histogram of number of cut edges in the plan\n",
    "plt.figure()\n",
    "plt.hist(cutedge_ensemble, align=\"left\")\n",
    "plt.xlabel(\"Number of cut edges\")\n",
    "plt.ylabel(\"Frequency\")\n",
    "plt.savefig(\"cutedge_ensemble.png\")\n",
    "\n",
    "\n",
    "# Draw histogram of number of districts won by Democrats\n",
    "plt.figure()\n",
    "plt.hist(dem_ensemble, align=\"left\")\n",
    "plt.xlabel(\"Number of districts won by Democrats\")\n",
    "plt.ylabel(\"Frequency\")\n",
    "plt.savefig(\"democrate_ensemble.png\")\n",
    "\n",
    "end_time = time.time()\n",
    "print(\"The time of execution of above program is :\",\n",
    "      (end_time-start_time)/60, \"mins\")"
   ]
  },
  {
   "cell_type": "code",
   "execution_count": null,
   "id": "ddb08931-c69c-4fd2-9e64-1d56b53aac03",
   "metadata": {},
   "outputs": [],
   "source": []
  }
 ],
 "metadata": {
  "kernelspec": {
   "display_name": "maup",
   "language": "python",
   "name": "maup"
  },
  "language_info": {
   "codemirror_mode": {
    "name": "ipython",
    "version": 3
   },
   "file_extension": ".py",
   "mimetype": "text/x-python",
   "name": "python",
   "nbconvert_exporter": "python",
   "pygments_lexer": "ipython3",
   "version": "3.9.12"
  }
 },
 "nbformat": 4,
 "nbformat_minor": 5
}
