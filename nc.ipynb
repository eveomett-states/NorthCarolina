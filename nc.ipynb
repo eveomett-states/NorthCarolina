{
 "cells": [
  {
   "cell_type": "markdown",
   "id": "48a72edc-10d5-447e-bf59-a42b79b13098",
   "metadata": {},
   "source": [
    "# All the parameters that need to be changed"
   ]
  },
  {
   "cell_type": "code",
   "execution_count": 2,
   "id": "55545525-1a53-4366-88fa-4b4ecc94ecad",
   "metadata": {},
   "outputs": [],
   "source": [
    "# North Carolina\n",
    "state_ab = \"nc\""
   ]
  },
  {
   "cell_type": "markdown",
   "id": "c3e1bdeb-55c5-4c10-83b5-de352e6d559d",
   "metadata": {
    "tags": []
   },
   "source": [
    "## Data\n",
    "1. Download all the data in directory \"nc_data\"\n",
    "2. Extract them all"
   ]
  },
  {
   "cell_type": "code",
   "execution_count": 4,
   "id": "1cbb32f0-472b-4441-abf2-6af58699cb5f",
   "metadata": {},
   "outputs": [],
   "source": [
    "data_folder = state_ab + \"_data/\"\n",
    "population1_data = \"./{}{}_pl2020_b/{}_pl2020_p1_b.shp\".format(data_folder, state_ab, state_ab)\n",
    "population2_data = \"./{}{}_pl2020_b/{}_pl2020_p2_b.shp\".format(data_folder, state_ab, state_ab)\n",
    "vap_data =  \"./{}{}_pl2020_b/{}_pl2020_p4_b.shp\".format(data_folder, state_ab, state_ab)\n",
    "vest20_data = \"./{}{}_vest_20/{}_vest_20.shp\".format(data_folder, state_ab, state_ab)\n",
    "vest18_data = \"./{}{}_vest_18/{}_vest_18.shp\".format(data_folder, state_ab, state_ab)\n",
    "vest16_data = \"./{}{}_vest_16/{}_vest_16.shp\".format(data_folder, state_ab, state_ab)\n",
    "cd_data = \"./{}{}_cong_adopted_2023/SL 2023-145 Congress - Shapefile/SL 2023-145.shp\".format(data_folder, state_ab)\n",
    "send_data = \"./{}{}_sldu_adopted_2023/SL 2023-146 Senate - Shapefile/SL 2023-146.shp\".format(data_folder, state_ab)\n",
    "hdist_data = \"./{}{}_sldl_adopted_2023/SL 2023-149 House - Shapefile/SL 2023-149.shp\".format(data_folder, state_ab)\n",
    "county_data = \"./{}{}_pl2020_cnty/{}_pl2020_cnty.shp\".format(data_folder, state_ab, state_ab)"
   ]
  },
  {
   "cell_type": "markdown",
   "id": "2594a66a-efb1-443f-8b0a-b2c73257f1cc",
   "metadata": {},
   "source": [
    "## Parameters that needs to be manually checked\n",
    "\n",
    "### base vest data\n",
    "start_col = 5\\\n",
    "vest_base_data = vest20\\\n",
    "year = '20'\n",
    "\n",
    "### district data\n",
    "district column name of cong_df, send, hdist when calling add_dist()"
   ]
  },
  {
   "cell_type": "markdown",
   "id": "d9cfe42b-cfd8-4ad4-b255-31268cb35669",
   "metadata": {},
   "source": [
    "# Program starts"
   ]
  },
  {
   "cell_type": "code",
   "execution_count": 7,
   "id": "49a264d4-c255-4393-b5ae-74b6f7c645da",
   "metadata": {},
   "outputs": [],
   "source": [
    "import pandas as pd\n",
    "import geopandas as gpd\n",
    "import maup\n",
    "import time\n",
    "from maup import smart_repair\n",
    "from gerrychain import Graph\n",
    "import os\n",
    "\n",
    "maup.progress.enabled = True"
   ]
  },
  {
   "cell_type": "code",
   "execution_count": 8,
   "id": "f78d28b6-abb4-4444-aa7e-f0eb73dab3f2",
   "metadata": {},
   "outputs": [],
   "source": [
    "import warnings\n",
    "warnings.filterwarnings(\"ignore\")"
   ]
  },
  {
   "cell_type": "code",
   "execution_count": 9,
   "id": "378425b3-9819-41bd-8212-2e031b571cf2",
   "metadata": {},
   "outputs": [],
   "source": [
    "def do_smart_repair(df, min_rook_length = None, snap_precision = 10):\n",
    "    # change it to the UTM it needs for smart_repair\n",
    "    df = df.to_crs(df.estimate_utm_crs())\n",
    "    df = smart_repair(df, min_rook_length = min_rook_length, snap_precision = snap_precision)\n",
    "\n",
    "    if maup.doctor(df) == False:\n",
    "        raise Exception('maup.doctor failed')\n",
    "    \n",
    "    return df"
   ]
  },
  {
   "cell_type": "code",
   "execution_count": 10,
   "id": "df3945da-c3af-41a8-9511-a5aba33fef0b",
   "metadata": {},
   "outputs": [],
   "source": [
    "def add_district(dist_df, dist_name, election_df, col_name):\n",
    "    election_df = election_df.to_crs(election_df.estimate_utm_crs())\n",
    "    dist_df = dist_df.to_crs(dist_df.estimate_utm_crs())\n",
    "    # check if it needs to be smart_repair\n",
    "    if maup.doctor(dist_df) != True:\n",
    "        dist_df = do_smart_repair(dist_df)\n",
    "\n",
    "    # assign the pricincts\n",
    "    precincts_to_district_assignment = maup.assign(election_df.geometry, dist_df.geometry)\n",
    "    election_df[dist_name] = precincts_to_district_assignment\n",
    "    for precinct_index in range(len(election_df)):\n",
    "        election_df.at[precinct_index, dist_name] = dist_df.at[election_df.at[precinct_index, dist_name], col_name]\n",
    "\n",
    "    return election_df"
   ]
  },
  {
   "cell_type": "code",
   "execution_count": 11,
   "id": "29c38a31-6707-4ab3-a9e4-38d69ce6838c",
   "metadata": {},
   "outputs": [],
   "source": [
    "def rename(original, year):\n",
    "    party = original[6]\n",
    "    if party == 'R' or party == 'D':\n",
    "        return original[3:6] + year + original[6]\n",
    "    else:\n",
    "        return original[3:6] + year + 'O'"
   ]
  },
  {
   "cell_type": "code",
   "execution_count": 12,
   "id": "73515624-0937-4d74-ad3f-f5802741f687",
   "metadata": {},
   "outputs": [],
   "source": [
    "pop_col = ['TOTPOP', 'HISP', 'NH_WHITE', 'NH_BLACK', 'NH_AMIN', 'NH_ASIAN', 'NH_NHPI', 'NH_OTHER', 'NH_2MORE', 'H_WHITE', 'H_BLACK', 'H_AMIN', 'H_ASIAN', 'H_NHPI', 'H_OTHER', 'H_2MORE', 'VAP', 'HVAP', 'WVAP', 'BVAP', 'AMINVAP', 'ASIANVAP', 'NHPIVAP', 'OTHERVAP', '2MOREVAP']"
   ]
  },
  {
   "cell_type": "code",
   "execution_count": 13,
   "id": "9cbd02f8-308e-4fe9-804a-6bc8474b749b",
   "metadata": {},
   "outputs": [],
   "source": [
    "def check_population(population, df):\n",
    "    pop_check = pd.DataFrame({\n",
    "        'pop_col': pop_col,\n",
    "        'population_df': population[pop_col].sum(), \n",
    "        'vest_base': df[pop_col].sum(),\n",
    "        'equal': [x == y for x, y in zip(population[pop_col].sum(), df[pop_col].sum())]\n",
    "    })\n",
    "    if pop_check['equal'].mean() < 1:\n",
    "        print(pop_check)\n",
    "        raise Exception(\"population doesn't agree\")\n",
    "\n",
    "    else:\n",
    "        print(\"population agrees\")"
   ]
  },
  {
   "cell_type": "code",
   "execution_count": 14,
   "id": "c4508baf-84cd-4a31-97ad-059164232e8e",
   "metadata": {},
   "outputs": [],
   "source": [
    "def add_vest(vest, df, year, population, start_col, snap_precision = 10):\n",
    "    df = df.to_crs(df.estimate_utm_crs())\n",
    "    vest = vest.to_crs(vest.estimate_utm_crs())\n",
    "    population = population.to_crs(population.estimate_utm_crs())\n",
    "    df_crs = df.crs\n",
    "    vest_crs = vest.crs\n",
    "    \n",
    "     # check if it needs to be smart_repair\n",
    "    if maup.doctor(vest) != True:\n",
    "        vest = do_smart_repair(vest, snap_precision = snap_precision)\n",
    "    \n",
    "    # rename the columns\n",
    "    original_col = vest.columns[start_col:-1]\n",
    "    new_col = [rename(i, year) for i in original_col]\n",
    "    rename_dict = dict(zip(original_col, new_col))\n",
    "    vest = vest.rename(columns=rename_dict)\n",
    "    vest = vest.groupby(level=0, axis=1).sum() # combine all the other party's vote into columns with sufix \"O\"\n",
    "    col_name = list(set(new_col))\n",
    "    col_name.sort()\n",
    "    \n",
    "    # make the blocks from precincts by weight\n",
    "    vest = gpd.GeoDataFrame(vest, crs=vest_crs)\n",
    "    election_in_block = population[[\"VAP\", 'geometry']] # population_df is in block scale\n",
    "    blocks_to_precincts_assignment = maup.assign(election_in_block.geometry, vest.geometry)\n",
    "    weights = election_in_block[\"VAP\"] / blocks_to_precincts_assignment.map(election_in_block[\"VAP\"].groupby(blocks_to_precincts_assignment).sum())\n",
    "    weights = weights.fillna(0)\n",
    "    prorated = maup.prorate(blocks_to_precincts_assignment, vest[col_name], weights)\n",
    "    election_in_block[col_name] = prorated\n",
    "    \n",
    "    # assign blocks to precincts\n",
    "    election_in_block = gpd.GeoDataFrame(election_in_block, crs=vest_crs)\n",
    "    df = gpd.GeoDataFrame(df, crs=df_crs)\n",
    "    block_to_pricinct_assginment = maup.assign(election_in_block.geometry, df.geometry)\n",
    "    df[col_name] = election_in_block[col_name].groupby(block_to_pricinct_assginment).sum()\n",
    "    df = df.groupby(level=0, axis=1).sum()\n",
    "    df = gpd.GeoDataFrame(df, crs = df_crs)\n",
    "    # check if population agrees\n",
    "    check_population(population, df)\n",
    "    \n",
    "    return df"
   ]
  },
  {
   "cell_type": "code",
   "execution_count": 15,
   "id": "bdb2c7aa-7468-4424-b0c3-a0d3826321bd",
   "metadata": {},
   "outputs": [],
   "source": [
    "def add_vest_base(vest, start_col, year, county = None, min_rook_length = None, snap_precision = 10):\n",
    "    vest = vest.to_crs(vest.estimate_utm_crs())\n",
    "    vest_crs = vest.crs\n",
    "    original_col = vest.columns[start_col:-1]\n",
    "    new_col = [rename(i, year) for i in original_col]\n",
    "    rename_dict = dict(zip(original_col, new_col))\n",
    "    vest = vest.rename(columns=rename_dict)\n",
    "    vest = vest.groupby(level=0, axis=1).sum()\n",
    "    vest = gpd.GeoDataFrame(vest, crs=vest_crs)\n",
    "\n",
    "    if county is not None:\n",
    "        county = county.to_crs(county.estimate_utm_crs())\n",
    "        vest = smart_repair(vest, nest_within_regions = county, min_rook_length = min_rook_length, snap_precision = snap_precision) # nest precincts within counties\n",
    "\n",
    "    else:\n",
    "        vest = smart_repair(vest, min_rook_length = min_rook_length, snap_precision = snap_precision) \n",
    "    \n",
    "    return vest"
   ]
  },
  {
   "cell_type": "code",
   "execution_count": 16,
   "id": "210c57c1-e912-4f06-a202-16bda82ccbf5",
   "metadata": {},
   "outputs": [],
   "source": [
    "def check_small_boundary_lengths(vest_base):\n",
    "    import copy\n",
    "    vest_base = vest_base.to_crs(vest_base.estimate_utm_crs())\n",
    "\n",
    "    boundaries = copy.deepcopy(vest_base)\n",
    "    boundaries[\"geometry\"] = boundaries.geometry.boundary  # get boundaries\n",
    "    neighbors = gpd.sjoin(boundaries, vest_base, predicate=\"intersects\") # find boundaries that intersect\n",
    "    neighbors = neighbors[neighbors.index != neighbors.index_right] # remove boundaries of a region with itself\n",
    "\n",
    "    # compute shared border length using intersection\n",
    "    borders = list(neighbors.apply(\n",
    "        lambda row: row.geometry.intersection(vest_base.loc[row.index_right, \"geometry\"]).length, axis=1\n",
    "    ))\n",
    "\n",
    "    borders.sort()\n",
    "    \n",
    "    return borders"
   ]
  },
  {
   "cell_type": "markdown",
   "id": "ab6ce8f5-f237-4d6c-8425-cd8a0b080f65",
   "metadata": {},
   "source": [
    "## Read the census data"
   ]
  },
  {
   "cell_type": "code",
   "execution_count": 18,
   "id": "185d2b84-d37f-4f24-86c1-1bcd0b4347e2",
   "metadata": {},
   "outputs": [],
   "source": [
    "population1_df = gpd.read_file(population1_data)\n",
    "population2_df = gpd.read_file(population2_data)\n",
    "vap_df = gpd.read_file(vap_data)\n",
    "county_df = gpd.read_file(county_data)"
   ]
  },
  {
   "cell_type": "code",
   "execution_count": 19,
   "id": "57b3b9bb-9721-469d-8eee-0dd5eb0e6015",
   "metadata": {},
   "outputs": [],
   "source": [
    "population2_df = population2_df.drop(columns=['SUMLEV', 'LOGRECNO', 'GEOID', 'COUNTY', 'geometry'])\n",
    "vap_df = vap_df.drop(columns=['SUMLEV', 'LOGRECNO', 'GEOID', 'COUNTY', 'geometry'])"
   ]
  },
  {
   "cell_type": "code",
   "execution_count": 20,
   "id": "daa935f7-bc02-4856-adb0-9cc9cf31ffca",
   "metadata": {},
   "outputs": [],
   "source": [
    "population_df = pd.merge(population1_df, population2_df, on='GEOID20')\n",
    "population_df = pd.merge(population_df, vap_df, on='GEOID20')\n",
    "population_df = population_df.to_crs(population_df.estimate_utm_crs())"
   ]
  },
  {
   "cell_type": "code",
   "execution_count": 21,
   "id": "cbc174a2-2393-47ff-8495-a8a0f65ad774",
   "metadata": {},
   "outputs": [
    {
     "name": "stderr",
     "output_type": "stream",
     "text": [
      "100%|█████████████████████████████████| 236638/236638 [01:32<00:00, 2551.65it/s]\n"
     ]
    },
    {
     "data": {
      "text/plain": [
       "True"
      ]
     },
     "execution_count": 21,
     "metadata": {},
     "output_type": "execute_result"
    }
   ],
   "source": [
    "maup.doctor(population_df)"
   ]
  },
  {
   "cell_type": "code",
   "execution_count": 22,
   "id": "0845f50e-9920-404a-8284-c47df7b0f6ce",
   "metadata": {},
   "outputs": [],
   "source": [
    "rename_dict = {'P0020001': 'TOTPOP', 'P0020002': 'HISP', 'P0020005': 'NH_WHITE', 'P0020006': 'NH_BLACK', 'P0020007': 'NH_AMIN',\n",
    "               'P0020008': 'NH_ASIAN', 'P0020009': 'NH_NHPI', 'P0020010': 'NH_OTHER', 'P0020011': 'NH_2MORE',\n",
    "               'P0040001': 'VAP', 'P0040002': 'HVAP', 'P0040005': 'WVAP', 'P0040006': 'BVAP', 'P0040007': 'AMINVAP',\n",
    "               'P0040008': 'ASIANVAP', 'P0040009': 'NHPIVAP', 'P0040010': 'OTHERVAP', 'P0040011': '2MOREVAP'}"
   ]
  },
  {
   "cell_type": "code",
   "execution_count": 23,
   "id": "4d4f9723-ad23-46ff-bbd0-8d4ab628b69b",
   "metadata": {},
   "outputs": [],
   "source": [
    "population_df.rename(columns=rename_dict, inplace = True)"
   ]
  },
  {
   "cell_type": "code",
   "execution_count": 24,
   "id": "9550a841-5692-4d5f-a7f1-131d53eb9f12",
   "metadata": {},
   "outputs": [],
   "source": [
    "population_df['H_WHITE'] = population_df.apply(lambda t: t['P0010003'] - t['NH_WHITE'], 1)\n",
    "population_df['H_BLACK'] = population_df.apply(lambda t: t['P0010004'] - t['NH_BLACK'], 1)\n",
    "population_df['H_AMIN'] = population_df.apply(lambda t: t['P0010005'] - t['NH_AMIN'], 1)\n",
    "population_df['H_ASIAN'] = population_df.apply(lambda t: t['P0010006'] - t['NH_ASIAN'], 1)\n",
    "population_df['H_NHPI'] = population_df.apply(lambda t: t['P0010007'] - t['NH_NHPI'], 1)\n",
    "population_df['H_OTHER'] = population_df.apply(lambda t: t['P0010008'] - t['NH_OTHER'], 1)\n",
    "population_df['H_2MORE'] = population_df.apply(lambda t: t['P0010009'] - t['NH_2MORE'], 1)"
   ]
  },
  {
   "cell_type": "code",
   "execution_count": 25,
   "id": "420f23ca-b428-40e3-9ff8-9e24fd23c75e",
   "metadata": {},
   "outputs": [
    {
     "name": "stderr",
     "output_type": "stream",
     "text": [
      "100%|████████████████████████████████████████| 100/100 [00:00<00:00, 186.58it/s]\n"
     ]
    },
    {
     "data": {
      "text/plain": [
       "True"
      ]
     },
     "execution_count": 25,
     "metadata": {},
     "output_type": "execute_result"
    }
   ],
   "source": [
    "county_df = county_df.to_crs(county_df.estimate_utm_crs())\n",
    "maup.doctor(county_df)"
   ]
  },
  {
   "cell_type": "markdown",
   "id": "e1e89689-06e1-4937-9bee-b0442bfc33d5",
   "metadata": {},
   "source": [
    "# Read the base vest data\n",
    "Now using it as a \"base precinct\", but it could be vest 18 or vest 16 if vest 20 is not working"
   ]
  },
  {
   "cell_type": "markdown",
   "id": "bcfb3af1-db89-4463-98d8-3a0192067bb4",
   "metadata": {},
   "source": [
    "### Check if vest 20 can be used as base"
   ]
  },
  {
   "cell_type": "code",
   "execution_count": 28,
   "id": "397e9936-bfde-4b09-9dcb-207733dfb2dd",
   "metadata": {},
   "outputs": [],
   "source": [
    "vest20 = gpd.read_file(vest20_data)"
   ]
  },
  {
   "cell_type": "markdown",
   "id": "20718edd-b876-4d8d-8509-5eeee4b9b9be",
   "metadata": {},
   "source": [
    "### If it is true for maup doctor, we will use it as the base vest data.\n",
    "Check where the election column starts, this should be the same for all vest data in that state"
   ]
  },
  {
   "cell_type": "code",
   "execution_count": 30,
   "id": "2d744be1-7568-4b94-a383-17d219ac128b",
   "metadata": {},
   "outputs": [
    {
     "data": {
      "text/plain": [
       "Index(['PREC_ID', 'ENR_DESC', 'COUNTY_NAM', 'COUNTY_ID', 'G20PRERTRU',\n",
       "       'G20PREDBID', 'G20PRELJOR', 'G20PREGHAW', 'G20PRECBLA', 'G20PREOWRI',\n",
       "       'G20USSRTIL', 'G20USSDCUN', 'G20USSLBRA', 'G20USSCHAY', 'G20GOVRFOR',\n",
       "       'G20GOVDCOO', 'G20GOVLDIF', 'G20GOVCPIS', 'G20LTGRROB', 'G20LTGDHOL',\n",
       "       'G20ATGRONE', 'G20ATGDSTE', 'G20TRERFOL', 'G20TREDCHA', 'G20SOSRSYK',\n",
       "       'G20SOSDMAR', 'G20AUDRSTR', 'G20AUDDWOO', 'G20AGRRTRO', 'G20AGRDWAD',\n",
       "       'G20INSRCAU', 'G20INSDGOO', 'G20LABRDOB', 'G20LABDHOL', 'G20SPIRTRU',\n",
       "       'G20SPIDMAN', 'G20SSCRNEW', 'G20SSCDBEA', 'G20SSCRBER', 'G20SSCDINM',\n",
       "       'G20SSCRBAR', 'G20SSCDDAV', 'G20SACRWOO', 'G20SACDSHI', 'G20SACRGOR',\n",
       "       'G20SACDCUB', 'G20SACRDIL', 'G20SACDSTY', 'G20SACRCAR', 'G20SACDYOU',\n",
       "       'G20SACRGRI', 'G20SACDBRO', 'geometry'],\n",
       "      dtype='object')"
      ]
     },
     "execution_count": 30,
     "metadata": {},
     "output_type": "execute_result"
    }
   ],
   "source": [
    "vest20.columns"
   ]
  },
  {
   "cell_type": "markdown",
   "id": "65620cab-599f-4232-818e-e85846d02694",
   "metadata": {},
   "source": [
    "## Parameters that need to be checked"
   ]
  },
  {
   "cell_type": "code",
   "execution_count": 32,
   "id": "4200a0f8-29dd-42f9-96e4-ff27188ce32a",
   "metadata": {},
   "outputs": [],
   "source": [
    "start_col = 4\n",
    "vest_base_data = vest20\n",
    "year = '20'"
   ]
  },
  {
   "cell_type": "code",
   "execution_count": 33,
   "id": "728420ec-9df2-4771-ae4c-1832fe3fb12f",
   "metadata": {},
   "outputs": [
    {
     "name": "stderr",
     "output_type": "stream",
     "text": [
      "100%|████████████████████████████████████████| 100/100 [00:00<00:00, 200.39it/s]\n"
     ]
    },
    {
     "name": "stdout",
     "output_type": "stream",
     "text": [
      "Snapping all geometries to a grid with precision 10^( -5 ) to avoid GEOS errors.\n"
     ]
    },
    {
     "name": "stderr",
     "output_type": "stream",
     "text": [
      "100%|█████████████████████████████████████████| 100/100 [00:01<00:00, 87.78it/s]\n",
      "100%|████████████████████████████████████████| 100/100 [00:00<00:00, 276.47it/s]\n"
     ]
    },
    {
     "name": "stdout",
     "output_type": "stream",
     "text": [
      "Identifying overlaps...\n"
     ]
    },
    {
     "name": "stderr",
     "output_type": "stream",
     "text": [
      "100%|█████████████████████████████████████| 3071/3071 [00:01<00:00, 2052.34it/s]\n"
     ]
    },
    {
     "name": "stdout",
     "output_type": "stream",
     "text": [
      "Resolving overlaps and filling gaps...\n"
     ]
    },
    {
     "name": "stderr",
     "output_type": "stream",
     "text": [
      "100%|████████████████████████████████████████| 100/100 [00:00<00:00, 102.86it/s]\n",
      "100%|████████████████████████████████████████| 100/100 [00:00<00:00, 290.63it/s]\n",
      "Gaps to simplify in region 0: 100%|██████████████| 3/3 [00:00<00:00, 141.87it/s]\n",
      "Gaps to fill: 0it [00:00, ?it/s]\n",
      "Gaps to simplify: 0it [00:00, ?it/s]\n",
      "Gaps to fill: 0it [00:00, ?it/s]\n",
      "Gaps to simplify in region 2: 100%|██████████████| 5/5 [00:00<00:00, 113.97it/s]\n",
      "Gaps to fill: 0it [00:00, ?it/s]\n",
      "Gaps to simplify in region 3: 100%|██████████████| 6/6 [00:00<00:00, 125.32it/s]\n",
      "Gaps to fill: 0it [00:00, ?it/s]\n",
      "Gaps to simplify in region 4: 100%|███████████████| 1/1 [00:00<00:00, 89.39it/s]\n",
      "Gaps to fill: 0it [00:00, ?it/s]\n",
      "Gaps to simplify in region 5: 100%|██████████████| 7/7 [00:00<00:00, 130.97it/s]\n",
      "Gaps to fill: 0it [00:00, ?it/s]\n",
      "Gaps to simplify: 0it [00:00, ?it/s]\n",
      "Gaps to fill: 0it [00:00, ?it/s]\n",
      "Gaps to simplify in region 7: 100%|███████████████| 6/6 [00:00<00:00, 73.73it/s]\n",
      "Gaps to fill: 0it [00:00, ?it/s]\n",
      "Gaps to simplify: 0it [00:00, ?it/s]\n",
      "Gaps to fill: 0it [00:00, ?it/s]\n",
      "Gaps to simplify in region 9: 100%|███████████████| 1/1 [00:00<00:00, 53.97it/s]\n",
      "Gaps to fill: 0it [00:00, ?it/s]\n",
      "Gaps to simplify: 0it [00:00, ?it/s]\n",
      "Gaps to fill: 0it [00:00, ?it/s]\n",
      "Gaps to simplify in region 11: 100%|██████████████| 3/3 [00:00<00:00,  5.18it/s]\n",
      "Gaps to fill in region 11: 100%|██████████████████| 1/1 [00:00<00:00, 10.33it/s]\n",
      "Gaps to simplify in region 12: 100%|█████████████| 2/2 [00:00<00:00, 132.51it/s]\n",
      "Gaps to fill: 0it [00:00, ?it/s]\n",
      "Gaps to simplify: 0it [00:00, ?it/s]\n",
      "Gaps to fill: 0it [00:00, ?it/s]\n",
      "Gaps to simplify: 0it [00:00, ?it/s]\n",
      "Gaps to fill: 0it [00:00, ?it/s]\n",
      "Gaps to simplify in region 15: 100%|██████████████| 2/2 [00:00<00:00, 79.91it/s]\n",
      "Gaps to fill: 0it [00:00, ?it/s]\n",
      "Gaps to simplify: 0it [00:00, ?it/s]\n",
      "Gaps to fill: 0it [00:00, ?it/s]\n",
      "Gaps to simplify in region 17: 100%|██████████████| 1/1 [00:00<00:00, 77.86it/s]\n",
      "Gaps to fill: 0it [00:00, ?it/s]\n",
      "Gaps to simplify: 0it [00:00, ?it/s]\n",
      "Gaps to fill: 0it [00:00, ?it/s]\n",
      "Gaps to simplify: 0it [00:00, ?it/s]\n",
      "Gaps to fill: 0it [00:00, ?it/s]\n",
      "Gaps to simplify in region 20: 100%|██████████████| 1/1 [00:00<00:00, 76.58it/s]\n",
      "Gaps to fill: 0it [00:00, ?it/s]\n",
      "Gaps to simplify in region 21: 100%|██████████████| 7/7 [00:00<00:00, 96.52it/s]\n",
      "Gaps to fill: 0it [00:00, ?it/s]\n",
      "Gaps to simplify in region 22: 100%|████████████| 11/11 [00:00<00:00, 71.28it/s]\n",
      "Gaps to fill: 0it [00:00, ?it/s]\n",
      "Gaps to simplify in region 23: 100%|█████████████| 4/4 [00:00<00:00, 104.31it/s]\n",
      "Gaps to fill: 0it [00:00, ?it/s]\n",
      "Gaps to simplify: 0it [00:00, ?it/s]\n",
      "Gaps to fill: 0it [00:00, ?it/s]\n",
      "Gaps to simplify in region 25: 100%|█████████████| 1/1 [00:00<00:00, 114.54it/s]\n",
      "Gaps to fill: 0it [00:00, ?it/s]\n",
      "Gaps to simplify: 0it [00:00, ?it/s]\n",
      "Gaps to fill: 0it [00:00, ?it/s]\n",
      "Gaps to simplify in region 27: 100%|██████████████| 3/3 [00:00<00:00, 80.35it/s]\n",
      "Gaps to fill: 0it [00:00, ?it/s]\n",
      "Gaps to simplify in region 28: 100%|██████████████| 2/2 [00:00<00:00, 72.48it/s]\n",
      "Gaps to fill: 0it [00:00, ?it/s]\n",
      "Gaps to simplify: 0it [00:00, ?it/s]\n",
      "Gaps to fill: 0it [00:00, ?it/s]\n",
      "Gaps to simplify: 0it [00:00, ?it/s]\n",
      "Gaps to fill: 0it [00:00, ?it/s]\n",
      "Gaps to simplify in region 31: 100%|██████████████| 1/1 [00:00<00:00, 57.76it/s]\n",
      "Gaps to fill: 0it [00:00, ?it/s]\n",
      "Gaps to simplify in region 32: 100%|█████████████| 3/3 [00:00<00:00, 109.00it/s]\n",
      "Gaps to fill: 0it [00:00, ?it/s]\n",
      "Gaps to simplify: 0it [00:00, ?it/s]\n",
      "Gaps to fill: 0it [00:00, ?it/s]\n",
      "Gaps to simplify in region 34: 100%|█████████████| 5/5 [00:00<00:00, 107.40it/s]\n",
      "Gaps to fill: 0it [00:00, ?it/s]\n",
      "Gaps to simplify in region 35: 100%|█████████████| 2/2 [00:00<00:00, 118.60it/s]\n",
      "Gaps to fill: 0it [00:00, ?it/s]\n",
      "Gaps to simplify in region 36: 100%|██████████████| 1/1 [00:00<00:00, 89.48it/s]\n",
      "Gaps to fill: 0it [00:00, ?it/s]\n",
      "Gaps to simplify in region 37: 100%|████████████| 38/38 [00:01<00:00, 23.89it/s]\n",
      "Gaps to fill in region 37: 100%|██████████████████| 3/3 [00:00<00:00, 22.43it/s]\n",
      "Gaps to simplify: 0it [00:00, ?it/s]\n",
      "Gaps to fill: 0it [00:00, ?it/s]\n",
      "Gaps to simplify in region 39: 100%|██████████████| 6/6 [00:00<00:00, 48.36it/s]\n",
      "Gaps to fill in region 39: 100%|██████████████████| 1/1 [00:00<00:00, 20.64it/s]\n",
      "Gaps to simplify: 0it [00:00, ?it/s]\n",
      "Gaps to fill: 0it [00:00, ?it/s]\n",
      "Gaps to simplify in region 41: 100%|██████████████| 1/1 [00:00<00:00, 48.79it/s]\n",
      "Gaps to fill: 0it [00:00, ?it/s]\n",
      "Gaps to simplify: 0it [00:00, ?it/s]\n",
      "Gaps to fill: 0it [00:00, ?it/s]\n",
      "Gaps to simplify in region 43: 100%|█████████████| 4/4 [00:00<00:00, 100.20it/s]\n",
      "Gaps to fill: 0it [00:00, ?it/s]\n",
      "Gaps to simplify in region 44: 100%|██████████████| 2/2 [00:00<00:00, 90.36it/s]\n",
      "Gaps to fill: 0it [00:00, ?it/s]\n",
      "Gaps to simplify in region 45: 100%|██████████████| 9/9 [00:00<00:00, 33.80it/s]\n",
      "Gaps to fill: 0it [00:00, ?it/s]\n",
      "Gaps to simplify in region 46: 100%|██████████████| 1/1 [00:00<00:00, 83.09it/s]\n",
      "Gaps to fill: 0it [00:00, ?it/s]\n",
      "Gaps to simplify in region 47: 100%|█████████████| 2/2 [00:00<00:00, 159.35it/s]\n",
      "Gaps to fill: 0it [00:00, ?it/s]\n",
      "Gaps to simplify in region 48: 100%|████████████| 13/13 [00:02<00:00,  6.14it/s]\n",
      "Gaps to fill in region 48: 100%|██████████████████| 2/2 [00:00<00:00, 24.73it/s]\n",
      "Gaps to simplify in region 49: 100%|██████████████| 2/2 [00:00<00:00, 48.31it/s]\n",
      "Gaps to fill: 0it [00:00, ?it/s]\n",
      "Gaps to simplify in region 50: 100%|█████████████| 2/2 [00:00<00:00, 130.78it/s]\n",
      "Gaps to fill: 0it [00:00, ?it/s]\n",
      "Gaps to simplify: 0it [00:00, ?it/s]\n",
      "Gaps to fill: 0it [00:00, ?it/s]\n",
      "Gaps to simplify in region 52: 100%|██████████████| 1/1 [00:00<00:00, 58.98it/s]\n",
      "Gaps to fill: 0it [00:00, ?it/s]\n",
      "Gaps to simplify in region 53: 100%|██████████████| 6/6 [00:00<00:00, 23.28it/s]\n",
      "Gaps to fill: 0it [00:00, ?it/s]\n",
      "Gaps to simplify in region 54: 100%|█████████████| 1/1 [00:00<00:00, 107.27it/s]\n",
      "Gaps to fill: 0it [00:00, ?it/s]\n",
      "Gaps to simplify: 0it [00:00, ?it/s]\n",
      "Gaps to fill: 0it [00:00, ?it/s]\n",
      "Gaps to simplify in region 56: 100%|██████████████| 1/1 [00:00<00:00, 53.01it/s]\n",
      "Gaps to fill: 0it [00:00, ?it/s]\n",
      "Gaps to simplify in region 57: 100%|██████████████| 2/2 [00:00<00:00, 45.31it/s]\n",
      "Gaps to fill: 0it [00:00, ?it/s]\n",
      "Gaps to simplify in region 58: 100%|█████████████| 4/4 [00:00<00:00, 103.45it/s]\n",
      "Gaps to fill in region 58: 100%|██████████████████| 2/2 [00:00<00:00, 72.96it/s]\n",
      "Gaps to simplify in region 59: 100%|████████████| 28/28 [00:00<00:00, 35.95it/s]\n",
      "Gaps to fill in region 59: 100%|██████████████████| 4/4 [00:00<00:00, 84.67it/s]\n",
      "Gaps to simplify in region 60: 100%|█████████████| 3/3 [00:00<00:00, 150.12it/s]\n",
      "Gaps to fill: 0it [00:00, ?it/s]\n",
      "Gaps to simplify in region 61: 100%|██████████████| 1/1 [00:00<00:00, 84.26it/s]\n",
      "Gaps to fill: 0it [00:00, ?it/s]\n",
      "Gaps to simplify in region 62: 100%|█████████████| 2/2 [00:00<00:00, 145.56it/s]\n",
      "Gaps to fill: 0it [00:00, ?it/s]\n",
      "Gaps to simplify in region 63: 100%|██████████████| 8/8 [00:00<00:00, 78.35it/s]\n",
      "Gaps to fill: 0it [00:00, ?it/s]\n",
      "Gaps to simplify in region 64: 100%|████████████| 12/12 [00:00<00:00, 84.23it/s]\n",
      "Gaps to fill in region 64: 100%|██████████████████| 1/1 [00:00<00:00, 30.02it/s]\n",
      "Gaps to simplify in region 65: 100%|██████████████| 1/1 [00:00<00:00, 79.08it/s]\n",
      "Gaps to fill: 0it [00:00, ?it/s]\n",
      "Gaps to simplify in region 66: 100%|██████████████| 3/3 [00:00<00:00, 76.91it/s]\n",
      "Gaps to fill: 0it [00:00, ?it/s]\n",
      "Gaps to simplify in region 67: 100%|█████████████| 1/1 [00:00<00:00, 148.83it/s]\n",
      "Gaps to fill: 0it [00:00, ?it/s]\n",
      "Gaps to simplify in region 68: 100%|██████████████| 1/1 [00:00<00:00, 74.81it/s]\n",
      "Gaps to fill: 0it [00:00, ?it/s]\n",
      "Gaps to simplify in region 69: 100%|██████████████| 1/1 [00:00<00:00, 81.01it/s]\n",
      "Gaps to fill: 0it [00:00, ?it/s]\n",
      "Gaps to simplify in region 70: 100%|████████████| 59/59 [00:01<00:00, 43.75it/s]\n",
      "Gaps to fill in region 70: 100%|████████████████| 10/10 [00:00<00:00, 35.52it/s]\n",
      "Gaps to simplify in region 71: 100%|██████████████| 2/2 [00:00<00:00, 66.42it/s]\n",
      "Gaps to fill: 0it [00:00, ?it/s]\n",
      "Gaps to simplify: 0it [00:00, ?it/s]\n",
      "Gaps to fill: 0it [00:00, ?it/s]\n",
      "Gaps to simplify in region 73: 100%|██████████████| 1/1 [00:00<00:00, 50.91it/s]\n",
      "Gaps to fill: 0it [00:00, ?it/s]\n",
      "Gaps to simplify in region 74: 100%|██████████████| 8/8 [00:00<00:00, 85.67it/s]\n",
      "Gaps to fill in region 74: 100%|██████████████████| 1/1 [00:00<00:00, 35.05it/s]\n",
      "Gaps to simplify: 0it [00:00, ?it/s]\n",
      "Gaps to fill: 0it [00:00, ?it/s]\n",
      "Gaps to simplify in region 76: 100%|██████████████| 7/7 [00:12<00:00,  1.82s/it]\n",
      "Gaps to fill in region 76: 100%|██████████████████| 1/1 [00:01<00:00,  1.20s/it]\n",
      "Gaps to simplify: 0it [00:00, ?it/s]\n",
      "Gaps to fill: 0it [00:00, ?it/s]\n",
      "Gaps to simplify in region 78: 100%|████████████| 11/11 [00:00<00:00, 80.36it/s]\n",
      "Gaps to fill: 0it [00:00, ?it/s]\n",
      "Gaps to simplify in region 79: 100%|██████████████| 1/1 [00:00<00:00, 91.02it/s]\n",
      "Gaps to fill: 0it [00:00, ?it/s]\n",
      "Gaps to simplify in region 80: 100%|████████████| 10/10 [00:02<00:00,  4.89it/s]\n",
      "Gaps to fill in region 80: 100%|██████████████████| 5/5 [00:00<00:00, 41.18it/s]\n",
      "Gaps to simplify in region 81: 100%|██████████████| 1/1 [00:00<00:00, 58.14it/s]\n",
      "Gaps to fill: 0it [00:00, ?it/s]\n",
      "Gaps to simplify in region 82: 100%|██████████████| 2/2 [00:00<00:00, 50.21it/s]\n",
      "Gaps to fill: 0it [00:00, ?it/s]\n",
      "Gaps to simplify in region 83: 100%|██████████████| 6/6 [00:00<00:00, 77.35it/s]\n",
      "Gaps to fill: 0it [00:00, ?it/s]\n",
      "Gaps to simplify in region 84: 100%|██████████████| 3/3 [00:00<00:00, 93.02it/s]\n",
      "Gaps to fill: 0it [00:00, ?it/s]\n",
      "Gaps to simplify: 0it [00:00, ?it/s]\n",
      "Gaps to fill: 0it [00:00, ?it/s]\n",
      "Gaps to simplify: 0it [00:00, ?it/s]\n",
      "Gaps to fill: 0it [00:00, ?it/s]\n",
      "Gaps to simplify in region 87: 100%|██████████████| 2/2 [00:00<00:00, 95.53it/s]\n",
      "Gaps to fill: 0it [00:00, ?it/s]\n",
      "Gaps to simplify: 0it [00:00, ?it/s]\n",
      "Gaps to fill: 0it [00:00, ?it/s]\n",
      "Gaps to simplify in region 89: 100%|█████████████| 9/9 [00:00<00:00, 120.99it/s]\n",
      "Gaps to fill: 0it [00:00, ?it/s]\n",
      "Gaps to simplify in region 90: 100%|██████████████| 4/4 [00:00<00:00, 52.52it/s]\n",
      "Gaps to fill: 0it [00:00, ?it/s]\n",
      "Gaps to simplify: 0it [00:00, ?it/s]\n",
      "Gaps to fill: 0it [00:00, ?it/s]\n",
      "Gaps to simplify: 0it [00:00, ?it/s]\n",
      "Gaps to fill: 0it [00:00, ?it/s]\n",
      "Gaps to simplify: 0it [00:00, ?it/s]\n",
      "Gaps to fill: 0it [00:00, ?it/s]\n",
      "Gaps to simplify in region 94: 100%|██████████████| 1/1 [00:00<00:00, 57.03it/s]\n",
      "Gaps to fill: 0it [00:00, ?it/s]\n",
      "Gaps to simplify: 0it [00:00, ?it/s]\n",
      "Gaps to fill: 0it [00:00, ?it/s]\n",
      "Gaps to simplify in region 96: 100%|██████████████| 1/1 [00:00<00:00, 78.62it/s]\n",
      "Gaps to fill: 0it [00:00, ?it/s]\n",
      "Gaps to simplify in region 97: 100%|██████████████| 1/1 [00:00<00:00, 97.10it/s]\n",
      "Gaps to fill: 0it [00:00, ?it/s]\n",
      "Gaps to simplify in region 98: 100%|██████████████| 1/1 [00:00<00:00, 40.76it/s]\n",
      "Gaps to fill: 0it [00:00, ?it/s]\n",
      "Gaps to simplify: 0it [00:00, ?it/s]\n",
      "Gaps to fill: 0it [00:00, ?it/s]\n"
     ]
    }
   ],
   "source": [
    "vest_base = add_vest_base(vest_base_data, start_col, year, county = county_df)"
   ]
  },
  {
   "cell_type": "code",
   "execution_count": 34,
   "id": "12d89576-5e04-4a60-8ac3-3e4091585cc9",
   "metadata": {},
   "outputs": [
    {
     "name": "stdout",
     "output_type": "stream",
     "text": [
      "[0.0, 0.0, 0.0, 0.0, 0.0, 0.0, 0.0, 0.0, 0.0, 0.0, 0.0, 0.0, 0.0, 0.0, 0.0, 0.0, 0.0, 0.0, 0.0, 0.0, 0.0, 0.0, 0.0, 0.0, 0.0, 0.0, 0.0, 0.0, 0.0, 0.0, 0.0, 0.0, 0.0, 0.0, 0.0, 0.0, 0.0, 0.0, 0.0, 0.0, 0.0, 0.0, 0.0, 0.0, 0.0, 0.0, 0.0, 0.0, 0.0, 0.0, 0.0, 0.0, 0.0, 0.0, 0.0, 0.0, 0.0, 0.0, 0.0, 0.0, 0.0, 0.0, 0.0, 0.0, 0.0, 0.0, 0.0, 0.0, 0.0, 0.0, 0.0, 0.0, 0.0, 0.0, 0.0, 0.0, 0.0, 0.0, 0.0, 0.0, 0.0, 0.0, 0.0, 0.0, 0.0, 0.0, 0.0, 0.0, 0.0, 0.0, 0.0, 0.0, 0.0, 0.0, 0.0, 0.0, 0.0, 0.0, 0.0, 0.0, 0.0, 0.0, 0.0, 0.0, 0.0, 0.0, 0.0, 0.0, 0.0, 0.0, 0.0, 0.0, 0.0, 0.0, 0.0, 0.0, 0.0, 0.0, 0.0, 0.0, 0.0, 0.0, 0.0, 0.0, 0.0, 0.0, 0.0, 0.0, 0.0, 0.0, 0.0, 0.0, 0.0, 0.0, 0.0, 0.0, 0.0, 0.0, 0.0, 0.0, 0.0, 0.0, 0.0, 0.0, 0.0, 0.0, 0.0, 0.0, 0.0, 0.0, 0.0, 0.0, 0.0, 0.0, 0.0, 0.0, 0.0, 0.0, 0.0, 0.0, 0.0, 0.0, 0.0, 0.0, 0.0, 0.0, 0.0, 0.0, 0.0, 0.0, 0.0, 0.0, 0.0, 0.0, 0.0, 0.0, 0.0, 0.0, 0.0, 0.0, 0.0, 0.0, 0.0, 0.0, 0.0, 0.0, 0.0, 0.0, 0.0, 0.0, 0.0, 0.0, 0.0, 0.0, 0.0, 0.0, 0.0, 0.0, 0.0, 0.0, 0.0, 0.0, 0.0, 0.0, 0.0, 0.0, 0.0, 0.0, 0.0, 0.0, 0.0, 0.0, 0.0, 0.0, 0.0, 0.0, 0.0, 0.0, 0.0, 0.0, 0.0, 0.0, 0.0, 0.0, 0.0, 0.0, 0.0, 0.0, 0.0, 0.0, 0.0, 0.0, 0.0, 0.0, 0.0, 0.0, 0.0, 0.0, 0.0, 0.0, 0.0, 0.0, 0.0, 0.0, 0.0, 0.0, 0.0, 0.0, 0.0, 0.0, 0.0, 0.0, 0.0, 0.0, 0.0, 0.0, 0.0, 0.0, 0.0, 0.0, 0.0, 0.0, 0.0, 0.0, 0.0, 0.0, 0.0, 0.0, 0.0, 0.0, 0.0, 0.0, 0.0, 0.0, 0.0, 0.0, 0.0, 0.0, 0.0, 0.0, 0.0, 0.0, 0.0, 0.0, 0.0, 0.0, 0.0, 0.0, 0.0, 0.0, 0.0, 0.0, 0.0, 0.0, 0.0, 0.0, 0.0, 0.0, 0.0, 0.0, 0.0, 0.0, 0.0, 0.0, 0.0, 0.0, 0.0, 0.0, 0.0, 0.0, 0.0, 0.0, 0.0, 0.0, 0.0, 0.0, 0.0, 0.0, 0.0, 0.0, 0.0, 0.0, 0.0, 0.0, 0.0, 0.0, 0.0, 0.0, 0.0, 0.0, 0.0, 0.0, 0.0, 0.0, 0.0, 0.0, 0.0, 0.0, 0.0, 0.0, 0.0, 0.0, 0.0, 0.0, 0.0, 0.0, 0.0, 0.0, 0.0, 0.0, 0.0, 0.0, 0.0, 0.0, 0.0, 0.0, 0.0, 0.0, 0.0, 0.0, 0.0, 0.0, 0.0, 0.0, 0.0, 0.0, 0.0, 0.0, 0.0, 0.0, 0.0, 0.0, 0.0, 0.0, 0.0, 0.0, 0.0, 0.0, 0.0, 0.0, 0.0, 0.0, 0.0, 0.0, 0.0, 0.0, 0.0, 0.0, 0.0, 0.0, 0.0, 0.0, 0.0, 0.0, 0.0, 0.0, 0.0, 0.0, 0.0, 0.0, 0.0, 0.0, 0.0, 0.0, 0.0, 0.0, 0.0, 0.0, 0.0, 0.0, 0.0, 0.0, 0.0, 0.0, 0.0, 0.0, 0.0, 0.0, 0.0, 0.0, 0.0, 0.0, 0.0, 0.0, 0.0, 0.0, 0.0, 0.0, 0.0, 0.0, 0.0, 0.0, 0.0, 0.0, 0.0, 0.0, 0.0, 0.0, 0.0, 0.0, 0.0, 0.0, 0.0, 0.0, 0.0, 0.0, 0.0, 0.0, 0.0, 0.0, 0.0, 0.0, 0.0, 0.0, 0.0, 0.0, 0.0, 0.0, 0.0, 0.0, 0.0, 0.0, 0.0, 0.0, 0.0, 0.0, 0.0, 0.0, 0.0, 0.0, 0.0, 0.0, 0.0, 0.0, 0.0, 0.0, 0.0, 0.0, 0.0, 0.0, 0.0, 0.0, 0.0, 0.0, 0.0, 0.0, 0.0, 0.0, 0.0, 0.0, 0.0, 0.0, 0.0, 0.0, 0.0, 0.0, 0.0, 0.0, 0.0, 0.0, 0.0, 0.0, 0.0, 0.0, 0.0, 0.0, 0.0, 0.0, 0.0, 0.0, 0.0, 0.0, 0.0, 0.0, 0.0, 0.0, 0.0, 0.0, 0.0, 0.0, 0.0, 0.0, 0.0, 0.0, 0.0, 0.0, 0.0, 0.0, 0.0, 0.0, 0.0, 0.0, 0.0, 0.0, 0.0, 0.0, 0.0, 0.0, 0.0, 0.0, 0.0, 0.0, 0.0, 0.0, 0.0, 0.0, 0.0, 0.0, 0.0, 0.0, 0.0, 0.0, 0.0, 0.0, 0.0, 0.0, 0.0, 0.0, 0.0, 0.0, 0.0, 0.0, 0.0, 0.0, 0.0, 0.0, 0.0, 0.0, 0.0, 0.0, 0.0, 0.0, 0.0, 0.0, 0.0, 0.0, 0.0, 0.0, 0.0, 0.0, 0.0, 0.0, 0.0, 0.0, 0.0, 0.0, 0.0, 0.0, 0.0, 0.0, 0.0, 0.0, 0.0, 0.0, 0.0, 0.0, 0.0, 0.0, 0.0, 0.0, 0.0, 0.0, 0.0, 0.0, 0.0, 0.0, 0.0, 0.0, 0.0, 0.0, 0.0, 0.0, 0.0, 0.0, 0.0, 0.0, 0.0, 0.0, 0.0, 0.0, 0.0, 0.0, 0.0, 0.0, 0.0, 0.0, 0.0, 0.0, 0.0, 0.0, 0.0, 0.0, 0.0, 0.0, 0.0, 0.0, 0.0, 0.0, 0.0, 0.0, 0.0, 0.0, 0.0, 0.0, 0.0, 0.0, 0.0, 0.0, 0.0, 0.0, 0.0, 0.0, 0.0, 0.0, 0.0, 0.0, 0.0, 0.0, 0.0, 0.0, 0.0, 0.0, 0.0, 0.0, 0.0, 0.0, 0.0, 0.0, 0.0, 0.0, 0.0, 0.0, 0.0, 0.0, 0.0, 0.0, 0.0, 0.0, 0.0, 0.0, 0.0, 0.0, 0.0, 0.0, 0.0, 0.0, 0.0, 0.0, 0.0, 0.0, 0.0, 0.0, 0.0, 0.0, 0.0, 0.0, 0.0, 0.0, 0.0, 0.0, 0.0, 0.0, 0.0, 0.0, 0.0, 0.0, 0.0, 0.0, 0.0, 0.0, 0.0, 0.0, 0.0, 0.0, 0.0, 0.0, 0.0, 0.0, 0.0, 0.0, 0.0, 0.0, 0.0, 0.0, 0.0, 0.0, 0.0, 0.0, 0.0, 0.0, 0.0, 0.0, 0.0, 0.0, 0.0, 0.0, 0.0, 0.0, 0.0, 0.0, 0.0, 0.0, 0.0, 0.0, 0.0, 0.0, 0.0, 0.0, 0.0, 0.0, 0.0, 0.0, 0.0, 0.0, 0.0, 0.0, 0.0, 0.0, 0.0, 0.0, 0.0, 0.0, 0.0, 0.0, 0.0, 0.0, 0.0, 0.0, 0.0, 0.0, 0.0, 0.0, 0.0, 0.0, 0.0, 0.0, 0.0, 0.0, 0.0, 0.0, 0.0, 0.0, 0.0, 0.0, 0.0, 0.0, 0.0, 0.0, 0.0, 0.0, 0.0, 0.0, 0.0, 0.0, 0.0, 0.0, 0.0, 0.0, 0.0, 0.0, 0.0, 0.0, 0.0, 0.0, 0.0, 0.0, 0.0, 0.0, 0.0, 0.0, 0.0, 0.0, 0.0, 0.0, 0.0, 0.0, 0.0, 0.0, 0.0, 0.0, 0.0, 0.0, 0.0, 0.0, 0.0, 0.0, 0.0, 0.0, 0.0, 0.0, 0.0, 0.0, 0.0, 0.0, 0.0, 0.0, 0.0, 0.0, 0.0, 0.0, 0.0, 0.0, 0.0, 0.0, 0.0, 0.0, 0.0, 0.0, 0.0, 0.0, 0.0, 0.0, 0.0, 0.0, 0.0, 0.0, 0.0, 0.0, 0.0, 0.0, 0.0, 0.0, 0.0, 0.0, 0.0, 0.0, 0.0, 0.0, 0.0, 0.0, 0.0, 0.0, 0.0, 0.0, 0.0, 0.0, 0.0, 0.0, 0.0, 0.0, 0.0, 0.0, 0.0, 0.0, 0.0, 0.0, 0.0, 0.0, 0.0, 0.0, 0.0, 0.0, 0.0, 0.0, 0.0, 0.0, 0.0, 0.0, 0.0, 0.0, 0.0, 0.0, 0.0, 0.0, 0.0, 0.0, 0.0, 0.0, 0.0, 0.0, 0.0, 0.0, 0.0, 0.0, 0.0, 0.0, 0.0, 0.0, 0.0, 0.0, 0.0, 0.0, 0.0, 0.0, 0.0, 0.0, 0.0, 0.0, 0.0, 0.0, 0.0, 0.0, 0.0, 0.0, 0.0, 0.0, 0.0, 0.0, 0.0, 0.0, 0.0, 0.0, 0.0, 0.0, 0.0, 0.0, 0.0, 0.0, 0.0, 0.0, 0.0, 0.0, 0.0, 0.0, 0.0, 0.0, 0.0, 0.0, 0.0, 0.0, 0.0, 0.0, 0.0, 0.0, 0.0, 0.0, 0.0, 0.0, 0.0, 0.0, 0.0, 0.0, 0.0, 0.0, 0.0, 0.0, 0.0, 0.0, 0.0, 0.0, 0.0, 0.0, 0.0, 0.0, 0.0, 0.0, 0.0, 0.0, 0.0, 0.0, 0.0, 0.0, 0.0, 0.0, 0.0, 0.0, 0.0, 0.0, 0.0, 0.0, 0.0, 0.0, 0.0, 0.0, 0.0, 0.0, 0.0, 0.0, 0.0, 0.0, 0.0, 0.0, 0.0, 0.0, 0.0, 0.0, 0.0, 0.0, 0.0, 0.0, 0.0, 0.0, 0.0, 0.0, 0.0, 0.0, 0.0, 0.0, 0.0, 0.0, 0.0, 0.0, 0.0, 0.0, 0.0, 0.0, 0.0, 0.0, 0.0, 0.0, 0.0, 0.0, 1.765761615085562, 1.765761615085562, 6.704887072257851, 6.704887072257851, 9.34874251232997, 9.34874251232997, 10.965117514077388, 10.965117514077388, 11.132674334203449, 11.132674334203449, 12.106538852061098, 12.106538852061098, 14.723308499647425, 14.723308499647425, 14.834087884650303, 14.834087884650303, 16.752117126035234, 16.752117126035234, 17.309797332666644, 17.309797332666644, 17.92830961906078, 17.92830961906078, 19.809346816563025, 19.80934681656303, 19.92648685664551, 19.92648685664551, 20.329734934292446, 20.329734934292446, 21.031300023392983, 21.031300023392983, 21.528529008164558, 21.528529008164558, 22.010361275544664, 22.010361275544668, 23.072956889271545, 23.072956889271545, 24.470894876789213, 24.470894876789213, 24.86199485699467, 24.86199485699467, 26.882505583923013, 26.882505583923013, 27.19623272320714, 27.19623272320714, 29.432002290678348, 29.432002290678348, 31.342697957703287, 31.342697957703287, 32.712706447249936, 32.712706447249936, 33.399062416292345, 33.399062416292345, 33.85390366356627, 33.85390366356627, 35.54409889422658, 35.54409889422658, 36.499442516247214, 36.499442516247214, 36.50520584984426, 36.50520584984426, 37.827486097298205, 37.827486097298205, 38.07719150425227, 38.07719150425227, 39.01240867975165, 39.01240867975165, 39.50451457492208, 39.50451457492208, 40.430681616251746, 40.430681616251746, 41.233136281078245, 41.233136281078245, 41.27262020855425, 41.27262020855425, 42.58221384744633, 42.58221384744634, 44.150043837259254, 44.150043837259254, 44.65442560396508, 44.65442560396508, 47.19153368324307, 47.19153368324307, 48.78945714200997, 48.78945714200997, 49.92288706371596, 49.92288706371596, 50.03543118677381, 50.03543118677381, 50.65093267235301, 50.65093267235301, 51.33860766397094, 51.33860766397095, 53.29226611851093, 53.29226611851093, 55.52414956926557, 55.524149569265575, 56.9993335468414, 56.9993335468414, 57.36650193589574, 57.36650193589574, 57.678264566144755, 57.678264566144755, 58.956041142870376, 58.956041142870376, 59.508059695529106, 59.508059695529106, 60.513097739484735, 60.513097739484735, 60.96575207788095, 60.96575207788095, 62.31048256996241, 62.31048256996242, 63.94929851254796, 63.94929851254796, 66.39551786563099, 66.39551786563099, 67.97712547193707, 67.97712547193709, 70.52459401120485, 70.52459401120485, 71.5560059384674, 71.5560059384674, 76.720807685718, 76.720807685718, 77.88818790176444, 77.88818790176444, 79.42315236632321, 79.42315236632321, 85.32507485727957, 85.32507485727957, 85.72541204648047, 85.72541204648047, 89.0340173886026, 89.0340173886026, 95.9574974783204, 95.9574974783204, 98.19661363573081, 98.19661363573081, 98.35454737837554, 98.35454737837556, 99.12401069267577, 99.12401069267577, 103.24567296386374, 103.24567296386374, 103.97471903053471, 103.97471903053473, 104.362235592511, 104.362235592511, 104.88566411977162, 104.88566411977162, 105.20493613529044, 105.20493613529044, 105.85927814824335, 105.85927814824335, 106.00936641729335, 106.00936641729335, 106.23511644020948, 106.23511644020948, 106.34410875070293, 106.34410875070293, 107.07504107885549, 107.07504107885549, 107.40762611724496, 107.40762611724497, 107.6597022375139, 107.65970223751391, 108.77927850402753, 108.77927850402754, 110.58452391673872, 110.58452391673872, 114.52855377580086, 114.52855377580086, 118.48915275342068, 118.48915275342068, 120.20338659850961, 120.20338659850961, 120.6023070215138, 120.60230702151381, 121.75690220925372, 121.75690220925375, 123.00975866037955, 123.00975866037956, 124.75218615764878, 124.7521861576488, 124.87577070579243, 124.87577070579245, 125.47071052172905, 125.47071052172905, 125.7486616238268, 125.74866162382683, 127.86338654634599, 127.863386546346, 128.71755809763636, 128.71755809763636, 130.14057474810699, 130.140574748107, 132.44344341003642, 132.44344341003642, 132.5832620575227, 132.5832620575227, 133.16168946603642, 133.16168946603645, 133.667019045368, 133.66701904536802, 136.367553562836, 136.367553562836, 136.39825412918364, 136.39825412918364, 136.54265785569305, 136.54265785569308, 137.99899152715477, 137.99899152715477, 139.86630474285985, 139.86630474285988, 142.03204410875412, 142.03204410875412, 142.3217242556374, 142.3217242556374, 146.26241797336817, 146.2624179733682, 149.0056036098266, 149.0056036098266, 151.9804584874553, 151.9804584874553, 153.3487153568847, 153.3487153568847, 154.23584800237327, 154.23584800237327, 154.42523389591074, 154.42523389591076, 159.1215917817396, 159.1215917817396, 161.778466225135, 161.77846622513505, 162.07696836844087, 162.0769683684409, 162.71781173477606, 162.71781173477606, 163.35577559105144, 163.35577559105144, 166.7112277872322, 166.7112277872322, 172.6769176089751, 172.67691760897512, 173.33055254293586, 173.33055254293592, 173.366647695777, 173.366647695777, 177.13965275743874, 177.13965275743874, 180.10585459707727, 180.10585459707727, 181.57454878259745, 181.57454878259745, 181.66200467939373, 181.66200467939373, 183.91780580652295, 183.91780580652298, 183.9829124327681, 183.9829124327681, 184.85027508459734, 184.85027508459734, 186.24178233992754, 186.24178233992757, 187.98427259140414, 187.98427259140416, 189.31474443155153, 189.31474443155156, 190.13547731762594, 190.13547731762594, 191.13876100779828, 191.13876100779828, 191.86586069093462, 191.86586069093462, 192.0182633560632, 192.0182633560632, 192.4040576894075, 192.40405768940752, 193.5903807663893, 193.5903807663893, 194.451200181578, 194.451200181578, 195.30072483965495, 195.30072483965495, 195.54290892176797, 195.54290892176797, 197.00808889634584, 197.00808889634584, 198.6739013419401, 198.67390134194014, 200.61961887539584, 200.61961887539584, 203.85269472248473, 203.85269472248473, 206.07090889810948, 206.07090889810948, 210.0931491397024, 210.0931491397024, 212.8911716937978, 212.8911716937978, 214.16277605732932, 214.16277605732932, 214.37318467537028, 214.37318467537028, 215.67223206073945, 215.67223206073947, 217.76083356163778, 217.7608335616378, 218.23316723220051, 218.23316723220054, 222.56862436991474, 222.56862436991477, 225.76805615593855, 225.76805615593855, 227.75379077808168, 227.75379077808168, 227.76057014440227, 227.7605701444023, 230.11559796848556, 230.1155979684856, 232.3244332376129, 232.3244332376129, 232.5511236062654, 232.5511236062654, 232.79097449170536, 232.79097449170536, 232.8521548205764, 232.85215482057646, 233.49678586651117, 233.49678586651117, 233.6219668283987, 233.62196682839874, 234.77651219628666, 234.7765121962867, 236.39060156145715, 236.39060156145715, 237.1321996910716, 237.13219969107163, 237.39955394813305, 237.39955394813308, 237.95597456523683, 237.9559745652369, 240.9987267942783, 240.99872679427833, 243.8773952718766, 243.8773952718766, 244.0223253578905, 244.0223253578905, 244.93630913272676, 244.9363091327268, 248.1302956648329, 248.13029566483291, 248.81158114301715, 248.81158114301718, 250.27109902349696, 250.27109902349696, 251.1179227699526, 251.1179227699526, 252.73770665841153, 252.73770665841153, 254.2020736885669, 254.2020736885669, 254.58829971850008, 254.5882997185001, 257.4377129401037, 257.4377129401037, 257.49467244438284, 257.49467244438284, 258.59100556241054, 258.59100556241054, 259.8184148448054, 259.8184148448054, 261.0348933962136, 261.0348933962136, 262.3523922308099, 262.35239223081, 264.2197598737825, 264.21975987378255, 267.3585135988901, 267.35851359889017, 268.4828875137976, 268.48288751379766, 269.82514735619264, 269.82514735619264, 270.1055383380151, 270.1055383380151, 270.1548996609693, 270.1548996609693, 270.91420710588994, 270.91420710589, 271.47593732203507, 271.47593732203507, 273.9241926168572, 273.9241926168573, 275.02384005540557, 275.02384005540557, 276.47736412748156, 276.47736412748156, 276.86694312215735, 276.86694312215735, 277.4116711556895, 277.4116711556895, 278.8464253327465, 278.8464253327465, 279.1521869167734, 279.1521869167735, 279.7772061804867, 279.77720618048676, 281.0148203031516, 281.0148203031516, 282.0890851450636, 282.0890851450637, 284.4575865208345, 284.4575865208345, 286.5382159383033, 286.53821593830344, 287.73128148642076, 287.7312814864208, 292.45498653317935, 292.45498653317935, 292.897957564442, 292.89795756444204, 293.76676322402136, 293.76676322402136, 295.9841593620261, 295.9841593620261, 296.13425644492094, 296.13425644492094, 296.68767609902585, 296.68767609902585, 297.55913209728874, 297.5591320972888, 299.4222596290909, 299.422259629091, 301.058611895019, 301.058611895019, 301.474382995483, 301.474382995483, 305.5351763974427, 305.5351763974427, 308.48651808445373, 308.48651808445373, 309.0454420354341, 309.0454420354342, 310.7617570669262, 310.76175706692624, 311.59527350673034, 311.59527350673034, 311.6824665387549, 311.68246653875497, 312.78175776393647, 312.7817577639365, 318.1426621584095, 318.1426621584095, 318.31844332825307, 318.3184433282531, 318.70980774201047, 318.7098077420105, 318.8803638061874, 318.8803638061874, 319.0089520654998, 319.0089520654998, 319.1713251671797, 319.17132516717976, 320.5576898212214, 320.5576898212214, 324.39935537140923, 324.39935537140923, 326.4971923859564, 326.4971923859564, 327.2375887341414, 327.2375887341415, 327.6670215809126, 327.6670215809126, 330.1916821602888, 330.1916821602888, 330.29476823093296, 330.29476823093296, 330.72829719829156, 330.72829719829156, 333.7428602290263, 333.74286022902635, 336.8215805077488, 336.8215805077488, 337.0225417014447, 337.0225417014447, 337.5129846672782, 337.51298466727826, 339.56576067788933, 339.5657606778894, 340.56470331556187, 340.5647033155619, 341.01583741274436, 341.01583741274436, 342.6262531013364, 342.62625310133643, 345.31054856782356, 345.31054856782356, 347.28665024054567, 347.2866502405457, 348.63389422836985, 348.6338942283699, 350.01030374421805, 350.0103037442181, 351.15251159335185, 351.15251159335185, 351.4683241840192, 351.46832418401925, 351.84027470029235, 351.8402747002924, 352.1242410322486, 352.1242410322487, 352.8010249851726, 352.8010249851726, 354.5524149115223, 354.5524149115223, 357.9814246642375, 357.9814246642375, 357.99910580348165, 357.99910580348165, 359.4187653471204, 359.4187653471204, 360.19641222354034, 360.19641222354034, 361.4128513415217, 361.4128513415217, 362.30788651619775, 362.30788651619775, 364.0666339831663, 364.06663398316635, 365.18547241187406, 365.18547241187406, 365.6768802766622, 365.67688027666225, 366.26320580983355, 366.2632058098336, 367.5507386169793, 367.5507386169793, 367.7441191395854, 367.74411913958545, 369.3669076063365, 369.36690760633655, 369.9656050896746, 369.9656050896746, 372.74285600348855, 372.7428560034886, 377.2728778558574, 377.2728778558574, 377.70195765069786, 377.701957650698, 378.2440675654983, 378.2440675654983, 378.4872094472065, 378.4872094472065, 379.1420851899894, 379.1420851899894, 380.66074576402815, 380.6607457640282, 380.93895318026074, 380.9389531802608, 383.8601346706874, 383.8601346706874, 383.8801638789338, 383.88016387893384, 383.88833237971676, 383.88833237971676, 384.83065759729567, 384.8306575972957, 385.3238781591531, 385.3238781591532, 385.61378332321027, 385.6137833232103, 385.95274018446844, 385.9527401844685, 386.3366058069473, 386.3366058069473, 387.7852748893626, 387.7852748893626, 388.9793267273561, 388.9793267273562, 389.26004137999905, 389.2600413799991, 389.32095708509854, 389.32095708509854, 389.44961673368954, 389.44961673368954, 394.4326501145745, 394.4326501145746, 394.5198890953828, 394.51988909538284, 395.14103348079215, 395.14103348079215, 395.43507886672563, 395.4350788667257, 396.43900988519493, 396.439009885195, 396.5751790281207, 396.5751790281207, 398.7332756699539, 398.7332756699539, 399.473642614381, 399.473642614381, 401.28116239140064, 401.28116239140064, 402.15229377098217, 402.15229377098217, 404.30841307258385, 404.3084130725839, 404.59341342022, 404.59341342022003, 404.84598610702517, 404.8459861070252, 405.5571046064552, 405.55710460645525, 406.1894854666914, 406.18948546669145, 407.02991254102517, 407.0299125410253, 407.7469428074893, 407.7469428074893, 410.70096399960335, 410.70096399960346, 410.9291967650414, 410.92919676504147, 411.10199090967046, 411.10199090967046, 411.58233912923765, 411.5823391292377, 412.72429703286605, 412.7242970328661, 413.57849865786665, 413.57849865786665, 416.12031901362116, 416.1203190136212, 416.6087335834302, 416.6087335834302, 417.49046626453173, 417.49046626453173, 418.00878445102626, 418.0087844510263, 419.2232584289801, 419.22325842898016, 419.984554134197, 419.984554134197, 420.1544991086392, 420.1544991086392, 420.3347975247676, 420.33479752476774, 420.418102071189, 420.41810207118914, 420.7286474789578, 420.7286474789578, 424.0386441611142, 424.0386441611142, 424.97431058271576, 424.9743105827158, 425.70425479067313, 425.70425479067313]\n"
     ]
    }
   ],
   "source": [
    "borders = check_small_boundary_lengths(vest_base)\n",
    "print(borders[:1700])"
   ]
  },
  {
   "cell_type": "code",
   "execution_count": 35,
   "id": "d55688ec-1330-467b-8438-f39925abc22a",
   "metadata": {},
   "outputs": [
    {
     "name": "stdout",
     "output_type": "stream",
     "text": [
      "Snapping all geometries to a grid with precision 10^( -5 ) to avoid GEOS errors.\n",
      "Identifying overlaps...\n"
     ]
    },
    {
     "name": "stderr",
     "output_type": "stream",
     "text": [
      "100%|█████████████████████████████████████| 2668/2668 [00:00<00:00, 3884.19it/s]\n"
     ]
    },
    {
     "name": "stdout",
     "output_type": "stream",
     "text": [
      "Resolving overlaps...\n",
      "Filling gaps...\n"
     ]
    },
    {
     "name": "stderr",
     "output_type": "stream",
     "text": [
      "Gaps to simplify: 0it [00:00, ?it/s]\n",
      "Gaps to fill: 0it [00:00, ?it/s]\n"
     ]
    },
    {
     "name": "stdout",
     "output_type": "stream",
     "text": [
      "Converting small rook adjacencies to queen...\n"
     ]
    },
    {
     "name": "stderr",
     "output_type": "stream",
     "text": [
      "100%|██████████████████████████████████████| 2662/2662 [00:03<00:00, 817.25it/s]\n",
      "100%|███████████████████████████████████████████| 4/4 [00:00<00:00, 2792.94it/s]\n",
      "100%|███████████████████████████████████████████| 4/4 [00:00<00:00, 3012.07it/s]\n",
      "100%|███████████████████████████████████████████| 5/5 [00:00<00:00, 2872.02it/s]\n",
      "100%|███████████████████████████████████████████| 4/4 [00:00<00:00, 2419.91it/s]\n",
      "100%|███████████████████████████████████████████| 4/4 [00:00<00:00, 2212.19it/s]\n",
      "100%|███████████████████████████████████████████| 4/4 [00:00<00:00, 2745.86it/s]\n",
      "100%|███████████████████████████████████████████| 4/4 [00:00<00:00, 2640.42it/s]\n",
      "100%|███████████████████████████████████████████| 4/4 [00:00<00:00, 2471.60it/s]\n",
      "100%|███████████████████████████████████████████| 4/4 [00:00<00:00, 2657.99it/s]\n",
      "100%|███████████████████████████████████████████| 4/4 [00:00<00:00, 2575.96it/s]\n",
      "100%|███████████████████████████████████████████| 4/4 [00:00<00:00, 2590.68it/s]\n",
      "100%|███████████████████████████████████████████| 4/4 [00:00<00:00, 3019.11it/s]\n",
      "100%|███████████████████████████████████████████| 5/5 [00:00<00:00, 2905.45it/s]\n",
      "100%|███████████████████████████████████████████| 4/4 [00:00<00:00, 2636.68it/s]\n",
      "100%|███████████████████████████████████████████| 5/5 [00:00<00:00, 2829.78it/s]\n",
      "100%|███████████████████████████████████████████| 5/5 [00:00<00:00, 2776.21it/s]\n",
      "100%|███████████████████████████████████████████| 4/4 [00:00<00:00, 2456.76it/s]\n",
      "100%|███████████████████████████████████████████| 4/4 [00:00<00:00, 2701.21it/s]\n",
      "100%|███████████████████████████████████████████| 4/4 [00:00<00:00, 2493.64it/s]\n",
      "100%|███████████████████████████████████████████| 4/4 [00:00<00:00, 2624.72it/s]\n",
      "100%|███████████████████████████████████████████| 4/4 [00:00<00:00, 2460.00it/s]\n",
      "100%|███████████████████████████████████████████| 5/5 [00:00<00:00, 2639.92it/s]\n",
      "100%|███████████████████████████████████████████| 5/5 [00:00<00:00, 2967.11it/s]\n",
      "100%|██████████████████████████████████████| 2662/2662 [00:03<00:00, 812.22it/s]\n"
     ]
    }
   ],
   "source": [
    "vest_base = do_smart_repair(vest_base, min_rook_length = 30)"
   ]
  },
  {
   "cell_type": "code",
   "execution_count": 36,
   "id": "45c9c88d-fc9a-4163-a653-8999646573a6",
   "metadata": {},
   "outputs": [
    {
     "name": "stderr",
     "output_type": "stream",
     "text": [
      "100%|██████████████████████████████████████| 2662/2662 [00:03<00:00, 808.80it/s]\n"
     ]
    },
    {
     "data": {
      "text/plain": [
       "True"
      ]
     },
     "execution_count": 36,
     "metadata": {},
     "output_type": "execute_result"
    }
   ],
   "source": [
    "maup.doctor(vest_base)"
   ]
  },
  {
   "cell_type": "code",
   "execution_count": 37,
   "id": "10e48467-d392-4312-b15f-bf18106f354c",
   "metadata": {},
   "outputs": [
    {
     "name": "stderr",
     "output_type": "stream",
     "text": [
      "100%|██████████████████████████████████████| 2662/2662 [00:04<00:00, 567.41it/s]\n",
      "100%|██████████████████████████████████████| 2662/2662 [00:21<00:00, 123.68it/s]\n"
     ]
    }
   ],
   "source": [
    "# vap and population have the same GEOID20\n",
    "blocks_to_precincts_assignment = maup.assign(population_df.geometry, vest_base.geometry)"
   ]
  },
  {
   "cell_type": "code",
   "execution_count": 38,
   "id": "f91b6866-727d-40c9-9d43-4a0e6ae8c0e2",
   "metadata": {},
   "outputs": [],
   "source": [
    "vest_base[pop_col] = population_df[pop_col].groupby(blocks_to_precincts_assignment).sum()"
   ]
  },
  {
   "cell_type": "code",
   "execution_count": 39,
   "id": "ead5880d-f5f1-44f0-8024-ff4789ff2f15",
   "metadata": {},
   "outputs": [],
   "source": [
    "election_df = gpd.GeoDataFrame(vest_base)"
   ]
  },
  {
   "cell_type": "markdown",
   "id": "cf1aefdb-30e0-4d1f-9261-01a513f4e1d3",
   "metadata": {},
   "source": [
    "### Check if the population agrees"
   ]
  },
  {
   "cell_type": "code",
   "execution_count": 41,
   "id": "d6ff200d-d1d6-4f7d-ba3b-142cddc0eb85",
   "metadata": {},
   "outputs": [
    {
     "name": "stdout",
     "output_type": "stream",
     "text": [
      "population agrees\n"
     ]
    }
   ],
   "source": [
    "check_population(population_df, vest_base)"
   ]
  },
  {
   "cell_type": "markdown",
   "id": "2b677d1a-cbe3-47aa-ae8a-761d0dfc7ad1",
   "metadata": {},
   "source": [
    "# Add more vest data"
   ]
  },
  {
   "cell_type": "code",
   "execution_count": 43,
   "id": "49d7e37a-7bbb-40b4-88ae-ba38d6dec0dd",
   "metadata": {},
   "outputs": [],
   "source": [
    "vest18 = gpd.read_file(vest18_data)"
   ]
  },
  {
   "cell_type": "code",
   "execution_count": 44,
   "id": "7e8ee46f-240e-42fb-b310-c777a01e1fca",
   "metadata": {},
   "outputs": [
    {
     "data": {
      "text/plain": [
       "['PREC_ID',\n",
       " 'ENR_DESC',\n",
       " 'COUNTY_NAM',\n",
       " 'COUNTY_ID',\n",
       " 'G18SSCRJAC',\n",
       " 'G18SSCRANG',\n",
       " 'G18SSCDEAR',\n",
       " 'G18SACRHEA',\n",
       " 'G18SACDARR',\n",
       " 'G18SACRGRI',\n",
       " 'G18SACRRAY',\n",
       " 'G18SACDHAM',\n",
       " 'G18SACRKIT',\n",
       " 'G18SACDCOL',\n",
       " 'G18SACLMON',\n",
       " 'geometry']"
      ]
     },
     "execution_count": 44,
     "metadata": {},
     "output_type": "execute_result"
    }
   ],
   "source": [
    "list(vest18.columns)"
   ]
  },
  {
   "cell_type": "code",
   "execution_count": 45,
   "id": "f995422e-1248-4aa9-b855-7d76d7616384",
   "metadata": {},
   "outputs": [
    {
     "name": "stderr",
     "output_type": "stream",
     "text": [
      "100%|██████████████████████████████████████| 2706/2706 [00:03<00:00, 898.40it/s]\n"
     ]
    },
    {
     "name": "stdout",
     "output_type": "stream",
     "text": [
      "There are 4 overlaps.\n",
      "There are 3 holes.\n",
      "There are some invalid geometries.\n",
      "Snapping all geometries to a grid with precision 10^( -5 ) to avoid GEOS errors.\n",
      "Identifying overlaps...\n"
     ]
    },
    {
     "name": "stderr",
     "output_type": "stream",
     "text": [
      "100%|█████████████████████████████████████| 2737/2737 [00:00<00:00, 3740.11it/s]\n"
     ]
    },
    {
     "name": "stdout",
     "output_type": "stream",
     "text": [
      "Resolving overlaps...\n",
      "Assigning order 2 pieces...\n",
      "Filling gaps...\n"
     ]
    },
    {
     "name": "stderr",
     "output_type": "stream",
     "text": [
      "Gaps to simplify: 100%|███████████████████████████| 3/3 [00:00<00:00,  5.40it/s]\n",
      "Gaps to fill: 100%|███████████████████████████████| 3/3 [00:00<00:00,  6.12it/s]\n",
      "100%|██████████████████████████████████████| 2706/2706 [00:03<00:00, 731.38it/s]\n",
      "100%|██████████████████████████████████████| 2706/2706 [00:03<00:00, 684.05it/s]\n",
      "100%|██████████████████████████████████████| 2706/2706 [00:17<00:00, 159.04it/s]\n",
      "100%|██████████████████████████████████████| 2662/2662 [00:03<00:00, 713.17it/s]\n",
      "100%|██████████████████████████████████████| 2662/2662 [00:21<00:00, 121.32it/s]\n"
     ]
    },
    {
     "name": "stdout",
     "output_type": "stream",
     "text": [
      "population agrees\n"
     ]
    }
   ],
   "source": [
    "# check the result here\n",
    "election_df = add_vest(vest18, election_df, '18', population_df, start_col)"
   ]
  },
  {
   "cell_type": "code",
   "execution_count": 46,
   "id": "4d7476dd-c003-4fa5-ab9b-8ed6f75bed39",
   "metadata": {
    "tags": []
   },
   "outputs": [
    {
     "data": {
      "text/plain": [
       "Index(['PREC_ID', 'ENR_DESC', 'COUNTY_NAM', 'COUNTY_ID', 'G16PRERTRU',\n",
       "       'G16PREDCLI', 'G16PRELJOH', 'G16PREOWRI', 'G16USSRBUR', 'G16USSDROS',\n",
       "       'G16USSLHAU', 'G16GOVRMCC', 'G16GOVDCOO', 'G16GOVLCEC', 'G16LTGRFOR',\n",
       "       'G16LTGDCOL', 'G16LTGLCOL', 'G16ATGRNEW', 'G16ATGDSTE', 'G16TRERFOL',\n",
       "       'G16TREDBLU', 'G16SOSRLAP', 'G16SOSDMAR', 'G16AUDRSTU', 'G16AUDDWOO',\n",
       "       'G16AGRRTRO', 'G16AGRDSMI', 'G16INSRCAU', 'G16INSDGOO', 'G16LABRBER',\n",
       "       'G16LABDMEE', 'G16LABOWRI', 'G16SPIRJOH', 'G16SPIDATK', 'G16SSCREDM',\n",
       "       'G16SSCDMOR', 'G16SACRDIE', 'G16SACDROZ', 'G16SACRMUR', 'G16SACDEAG',\n",
       "       'G16SACUBUI', 'G16SACRHUN', 'G16SACDJON', 'G16SACRBER', 'G16SACDSTE',\n",
       "       'G16SACRZAC', 'G16SACDMCK', 'geometry'],\n",
       "      dtype='object')"
      ]
     },
     "execution_count": 46,
     "metadata": {},
     "output_type": "execute_result"
    }
   ],
   "source": [
    "vest16 = gpd.read_file(vest16_data)\n",
    "vest16.columns"
   ]
  },
  {
   "cell_type": "code",
   "execution_count": 47,
   "id": "9cda5e9c-fabd-4499-841b-a3d49d5d501b",
   "metadata": {},
   "outputs": [
    {
     "name": "stderr",
     "output_type": "stream",
     "text": [
      "100%|██████████████████████████████████████| 2704/2704 [00:03<00:00, 822.10it/s]\n"
     ]
    },
    {
     "name": "stdout",
     "output_type": "stream",
     "text": [
      "There are 1 holes.\n",
      "There are some invalid geometries.\n",
      "Snapping all geometries to a grid with precision 10^( -5 ) to avoid GEOS errors.\n",
      "Identifying overlaps...\n"
     ]
    },
    {
     "name": "stderr",
     "output_type": "stream",
     "text": [
      "100%|█████████████████████████████████████| 2729/2729 [00:00<00:00, 4079.89it/s]\n"
     ]
    },
    {
     "name": "stdout",
     "output_type": "stream",
     "text": [
      "Resolving overlaps...\n",
      "Filling gaps...\n"
     ]
    },
    {
     "name": "stderr",
     "output_type": "stream",
     "text": [
      "Gaps to simplify: 100%|███████████████████████████| 1/1 [00:00<00:00,  6.30it/s]\n",
      "Gaps to fill: 100%|███████████████████████████████| 1/1 [00:00<00:00,  6.28it/s]\n",
      "100%|██████████████████████████████████████| 2704/2704 [00:03<00:00, 856.08it/s]\n",
      "100%|██████████████████████████████████████| 2704/2704 [00:04<00:00, 639.54it/s]\n",
      "100%|██████████████████████████████████████| 2704/2704 [00:22<00:00, 122.06it/s]\n",
      "100%|██████████████████████████████████████| 2662/2662 [00:03<00:00, 671.20it/s]\n",
      "100%|██████████████████████████████████████| 2662/2662 [00:18<00:00, 143.59it/s]\n"
     ]
    },
    {
     "name": "stdout",
     "output_type": "stream",
     "text": [
      "population agrees\n"
     ]
    }
   ],
   "source": [
    "election_df = add_vest(vest16, election_df, '16', population_df, start_col)"
   ]
  },
  {
   "cell_type": "markdown",
   "id": "10cf83d4-6005-485b-8193-c0149869a97e",
   "metadata": {},
   "source": [
    "## Add the district data"
   ]
  },
  {
   "cell_type": "code",
   "execution_count": 49,
   "id": "a0ccb606-7fe4-4b0a-998b-337d31f4abc5",
   "metadata": {},
   "outputs": [],
   "source": [
    "cong_df = gpd.read_file(cd_data)\n",
    "cong_df = cong_df.to_crs(cong_df.estimate_utm_crs())\n",
    "send = gpd.read_file(send_data)\n",
    "send = send.to_crs(send.estimate_utm_crs())\n",
    "hdist = gpd.read_file(hdist_data)\n",
    "hdist = hdist.to_crs(hdist.estimate_utm_crs())"
   ]
  },
  {
   "cell_type": "code",
   "execution_count": 50,
   "id": "4680cc44-44d8-4bea-96a7-9959d570d8ba",
   "metadata": {},
   "outputs": [
    {
     "data": {
      "text/html": [
       "<div>\n",
       "<style scoped>\n",
       "    .dataframe tbody tr th:only-of-type {\n",
       "        vertical-align: middle;\n",
       "    }\n",
       "\n",
       "    .dataframe tbody tr th {\n",
       "        vertical-align: top;\n",
       "    }\n",
       "\n",
       "    .dataframe thead th {\n",
       "        text-align: right;\n",
       "    }\n",
       "</style>\n",
       "<table border=\"1\" class=\"dataframe\">\n",
       "  <thead>\n",
       "    <tr style=\"text-align: right;\">\n",
       "      <th></th>\n",
       "      <th>DISTRICT</th>\n",
       "      <th>PL20AA_TOT</th>\n",
       "      <th>geometry</th>\n",
       "    </tr>\n",
       "  </thead>\n",
       "  <tbody>\n",
       "    <tr>\n",
       "      <th>0</th>\n",
       "      <td>1</td>\n",
       "      <td>745670</td>\n",
       "      <td>POLYGON ((975583.641 4024125.579, 971987.038 4...</td>\n",
       "    </tr>\n",
       "    <tr>\n",
       "      <th>1</th>\n",
       "      <td>10</td>\n",
       "      <td>745670</td>\n",
       "      <td>POLYGON ((467116.014 3958255.821, 467150.054 3...</td>\n",
       "    </tr>\n",
       "    <tr>\n",
       "      <th>2</th>\n",
       "      <td>11</td>\n",
       "      <td>745670</td>\n",
       "      <td>POLYGON ((376751.512 3895060.117, 376745.483 3...</td>\n",
       "    </tr>\n",
       "    <tr>\n",
       "      <th>3</th>\n",
       "      <td>12</td>\n",
       "      <td>745670</td>\n",
       "      <td>POLYGON ((519931.902 3887306.069, 519927.899 3...</td>\n",
       "    </tr>\n",
       "    <tr>\n",
       "      <th>4</th>\n",
       "      <td>13</td>\n",
       "      <td>745670</td>\n",
       "      <td>POLYGON ((725146.030 4006285.163, 725164.231 4...</td>\n",
       "    </tr>\n",
       "  </tbody>\n",
       "</table>\n",
       "</div>"
      ],
      "text/plain": [
       "  DISTRICT  PL20AA_TOT                                           geometry\n",
       "0        1      745670  POLYGON ((975583.641 4024125.579, 971987.038 4...\n",
       "1       10      745670  POLYGON ((467116.014 3958255.821, 467150.054 3...\n",
       "2       11      745670  POLYGON ((376751.512 3895060.117, 376745.483 3...\n",
       "3       12      745670  POLYGON ((519931.902 3887306.069, 519927.899 3...\n",
       "4       13      745670  POLYGON ((725146.030 4006285.163, 725164.231 4..."
      ]
     },
     "execution_count": 50,
     "metadata": {},
     "output_type": "execute_result"
    }
   ],
   "source": [
    "cong_df.head()"
   ]
  },
  {
   "cell_type": "code",
   "execution_count": 51,
   "id": "018ba38f-e7c4-4e89-a051-8ba52f5e62f4",
   "metadata": {},
   "outputs": [
    {
     "data": {
      "text/plain": [
       "{'1', '10', '11', '12', '13', '14', '2', '3', '4', '5', '6', '7', '8', '9'}"
      ]
     },
     "execution_count": 51,
     "metadata": {},
     "output_type": "execute_result"
    }
   ],
   "source": [
    "set(cong_df['DISTRICT'])"
   ]
  },
  {
   "cell_type": "code",
   "execution_count": 52,
   "id": "2b8fbf45-f392-4996-9dc6-e9ee67d0e715",
   "metadata": {
    "tags": []
   },
   "outputs": [
    {
     "name": "stderr",
     "output_type": "stream",
     "text": [
      "100%|███████████████████████████████████████████| 14/14 [00:00<00:00, 59.64it/s]\n",
      "100%|██████████████████████████████████████████| 14/14 [00:00<00:00, 123.62it/s]\n",
      "100%|███████████████████████████████████████████| 14/14 [00:01<00:00, 10.11it/s]\n"
     ]
    }
   ],
   "source": [
    "election_df = add_district(cong_df, \"CD\", election_df, \"DISTRICT\")"
   ]
  },
  {
   "cell_type": "code",
   "execution_count": 53,
   "id": "429d74db-6302-4981-a1c5-542ebd072f5b",
   "metadata": {},
   "outputs": [
    {
     "data": {
      "text/html": [
       "<div>\n",
       "<style scoped>\n",
       "    .dataframe tbody tr th:only-of-type {\n",
       "        vertical-align: middle;\n",
       "    }\n",
       "\n",
       "    .dataframe tbody tr th {\n",
       "        vertical-align: top;\n",
       "    }\n",
       "\n",
       "    .dataframe thead th {\n",
       "        text-align: right;\n",
       "    }\n",
       "</style>\n",
       "<table border=\"1\" class=\"dataframe\">\n",
       "  <thead>\n",
       "    <tr style=\"text-align: right;\">\n",
       "      <th></th>\n",
       "      <th>DISTRICT</th>\n",
       "      <th>PL20AA_TOT</th>\n",
       "      <th>geometry</th>\n",
       "    </tr>\n",
       "  </thead>\n",
       "  <tbody>\n",
       "    <tr>\n",
       "      <th>0</th>\n",
       "      <td>1</td>\n",
       "      <td>199623</td>\n",
       "      <td>POLYGON ((777522.078 4048828.157, 777553.948 4...</td>\n",
       "    </tr>\n",
       "    <tr>\n",
       "      <th>1</th>\n",
       "      <td>10</td>\n",
       "      <td>215999</td>\n",
       "      <td>POLYGON ((747909.371 3967251.270, 747904.771 3...</td>\n",
       "    </tr>\n",
       "    <tr>\n",
       "      <th>2</th>\n",
       "      <td>11</td>\n",
       "      <td>206121</td>\n",
       "      <td>POLYGON ((739541.138 4047601.228, 739844.538 4...</td>\n",
       "    </tr>\n",
       "    <tr>\n",
       "      <th>3</th>\n",
       "      <td>12</td>\n",
       "      <td>200794</td>\n",
       "      <td>POLYGON ((673364.476 3896003.654, 673319.887 3...</td>\n",
       "    </tr>\n",
       "    <tr>\n",
       "      <th>4</th>\n",
       "      <td>13</td>\n",
       "      <td>198371</td>\n",
       "      <td>POLYGON ((688936.653 3939775.455, 688820.725 3...</td>\n",
       "    </tr>\n",
       "  </tbody>\n",
       "</table>\n",
       "</div>"
      ],
      "text/plain": [
       "  DISTRICT  PL20AA_TOT                                           geometry\n",
       "0        1      199623  POLYGON ((777522.078 4048828.157, 777553.948 4...\n",
       "1       10      215999  POLYGON ((747909.371 3967251.270, 747904.771 3...\n",
       "2       11      206121  POLYGON ((739541.138 4047601.228, 739844.538 4...\n",
       "3       12      200794  POLYGON ((673364.476 3896003.654, 673319.887 3...\n",
       "4       13      198371  POLYGON ((688936.653 3939775.455, 688820.725 3..."
      ]
     },
     "execution_count": 53,
     "metadata": {},
     "output_type": "execute_result"
    }
   ],
   "source": [
    "send.head()"
   ]
  },
  {
   "cell_type": "code",
   "execution_count": 54,
   "id": "f9b2d7bd-9760-4d9e-832a-0c75061b8f51",
   "metadata": {},
   "outputs": [
    {
     "data": {
      "text/plain": [
       "50"
      ]
     },
     "execution_count": 54,
     "metadata": {},
     "output_type": "execute_result"
    }
   ],
   "source": [
    "len(set(send['DISTRICT'])) # 50"
   ]
  },
  {
   "cell_type": "code",
   "execution_count": 55,
   "id": "4c6f7560-f433-4ba1-9777-a172415c1f8d",
   "metadata": {},
   "outputs": [
    {
     "data": {
      "text/html": [
       "<div>\n",
       "<style scoped>\n",
       "    .dataframe tbody tr th:only-of-type {\n",
       "        vertical-align: middle;\n",
       "    }\n",
       "\n",
       "    .dataframe tbody tr th {\n",
       "        vertical-align: top;\n",
       "    }\n",
       "\n",
       "    .dataframe thead th {\n",
       "        text-align: right;\n",
       "    }\n",
       "</style>\n",
       "<table border=\"1\" class=\"dataframe\">\n",
       "  <thead>\n",
       "    <tr style=\"text-align: right;\">\n",
       "      <th></th>\n",
       "      <th>DISTRICT</th>\n",
       "      <th>PL20AA_TOT</th>\n",
       "      <th>geometry</th>\n",
       "    </tr>\n",
       "  </thead>\n",
       "  <tbody>\n",
       "    <tr>\n",
       "      <th>0</th>\n",
       "      <td>1</td>\n",
       "      <td>82812</td>\n",
       "      <td>POLYGON ((919582.540 4055244.822, 921796.803 4...</td>\n",
       "    </tr>\n",
       "    <tr>\n",
       "      <th>1</th>\n",
       "      <td>10</td>\n",
       "      <td>83014</td>\n",
       "      <td>POLYGON ((787919.068 3942611.564, 787924.438 3...</td>\n",
       "    </tr>\n",
       "    <tr>\n",
       "      <th>2</th>\n",
       "      <td>100</td>\n",
       "      <td>86763</td>\n",
       "      <td>POLYGON ((530027.092 3896203.183, 530026.237 3...</td>\n",
       "    </tr>\n",
       "    <tr>\n",
       "      <th>3</th>\n",
       "      <td>101</td>\n",
       "      <td>84368</td>\n",
       "      <td>POLYGON ((516377.519 3913410.879, 516368.553 3...</td>\n",
       "    </tr>\n",
       "    <tr>\n",
       "      <th>4</th>\n",
       "      <td>102</td>\n",
       "      <td>84206</td>\n",
       "      <td>POLYGON ((520923.630 3895113.894, 520906.206 3...</td>\n",
       "    </tr>\n",
       "  </tbody>\n",
       "</table>\n",
       "</div>"
      ],
      "text/plain": [
       "  DISTRICT  PL20AA_TOT                                           geometry\n",
       "0        1       82812  POLYGON ((919582.540 4055244.822, 921796.803 4...\n",
       "1       10       83014  POLYGON ((787919.068 3942611.564, 787924.438 3...\n",
       "2      100       86763  POLYGON ((530027.092 3896203.183, 530026.237 3...\n",
       "3      101       84368  POLYGON ((516377.519 3913410.879, 516368.553 3...\n",
       "4      102       84206  POLYGON ((520923.630 3895113.894, 520906.206 3..."
      ]
     },
     "execution_count": 55,
     "metadata": {},
     "output_type": "execute_result"
    }
   ],
   "source": [
    "hdist.head()"
   ]
  },
  {
   "cell_type": "code",
   "execution_count": 56,
   "id": "5da68b06-5571-453f-a777-1ca6cdb910dc",
   "metadata": {},
   "outputs": [
    {
     "data": {
      "text/plain": [
       "120"
      ]
     },
     "execution_count": 56,
     "metadata": {},
     "output_type": "execute_result"
    }
   ],
   "source": [
    "len(set(hdist['DISTRICT'])) # 120"
   ]
  },
  {
   "cell_type": "code",
   "execution_count": 57,
   "id": "a9fe98af-f37e-4200-835e-f96695f68e41",
   "metadata": {
    "tags": []
   },
   "outputs": [
    {
     "name": "stderr",
     "output_type": "stream",
     "text": [
      "100%|██████████████████████████████████████████| 50/50 [00:00<00:00, 101.42it/s]\n",
      "100%|██████████████████████████████████████████| 50/50 [00:00<00:00, 361.18it/s]\n",
      "100%|███████████████████████████████████████████| 50/50 [00:02<00:00, 21.95it/s]\n"
     ]
    }
   ],
   "source": [
    "election_df = add_district(send, \"SEND\", election_df, \"DISTRICT\")"
   ]
  },
  {
   "cell_type": "code",
   "execution_count": 58,
   "id": "da4c6235-1028-43d0-adde-affe669c3f20",
   "metadata": {
    "tags": []
   },
   "outputs": [
    {
     "name": "stderr",
     "output_type": "stream",
     "text": [
      "100%|████████████████████████████████████████| 120/120 [00:00<00:00, 176.44it/s]\n",
      "100%|████████████████████████████████████████| 120/120 [00:00<00:00, 643.46it/s]\n",
      "100%|█████████████████████████████████████████| 120/120 [00:03<00:00, 37.10it/s]\n"
     ]
    }
   ],
   "source": [
    "election_df = add_district(hdist, \"HDIST\", election_df, \"DISTRICT\")"
   ]
  },
  {
   "cell_type": "code",
   "execution_count": 59,
   "id": "aaee6a30-6a18-473e-bd02-7881c1e94e68",
   "metadata": {},
   "outputs": [
    {
     "data": {
      "text/plain": [
       "Index(['2MOREVAP', 'AGR16D', 'AGR16R', 'AGR20D', 'AGR20R', 'AMINVAP',\n",
       "       'ASIANVAP', 'ATG16D', 'ATG16R', 'ATG20D',\n",
       "       ...\n",
       "       'USS16R', 'USS20D', 'USS20O', 'USS20R', 'VAP', 'WVAP', 'geometry', 'CD',\n",
       "       'SEND', 'HDIST'],\n",
       "      dtype='object', length=103)"
      ]
     },
     "execution_count": 59,
     "metadata": {},
     "output_type": "execute_result"
    }
   ],
   "source": [
    "election_df.columns"
   ]
  },
  {
   "cell_type": "markdown",
   "id": "0bba365b-7d46-45ea-9b8b-400fc162a82f",
   "metadata": {},
   "source": [
    "### Put the base precinct year after the precinct information column"
   ]
  },
  {
   "cell_type": "code",
   "execution_count": 61,
   "id": "7086205b-49f4-44a7-be19-9eeac924e07b",
   "metadata": {},
   "outputs": [],
   "source": [
    "base_columns = {\n",
    "    'PREC_ID': 'PREC_ID' + year,\n",
    "    'COUNTY_ID': 'COUNTY_ID' + year,\n",
    "    'COUNTY_NAM': 'COUNTY_NAM' + year,\n",
    "    'ENR_DESC': 'ENR_DESC' + year,\n",
    "}\n",
    "election_df.rename(columns=base_columns, inplace = True)"
   ]
  },
  {
   "cell_type": "code",
   "execution_count": 62,
   "id": "3ea62760-cc32-4fcc-8475-c3ba956cb901",
   "metadata": {},
   "outputs": [],
   "source": [
    "# reorder the columns\n",
    "fixed_columns = [\n",
    "    'PREC_ID' + year,\n",
    "    'COUNTY_ID' + year,\n",
    "    'COUNTY_NAM' + year,\n",
    "    'ENR_DESC' + year,\n",
    "    'CD',\n",
    "    'SEND',\n",
    "    'HDIST',\n",
    "    'TOTPOP',\n",
    "    'NH_2MORE',\n",
    "    'NH_AMIN',\n",
    "    'NH_ASIAN',\n",
    "    'NH_BLACK',\n",
    "    'NH_NHPI',\n",
    "    'NH_OTHER',\n",
    "    'NH_WHITE',\n",
    "    'HISP',\n",
    "    'H_AMIN',\n",
    "    'H_ASIAN',\n",
    "    'H_BLACK',\n",
    "    'H_NHPI',\n",
    "    'H_OTHER',\n",
    "    'H_WHITE',\n",
    "    'H_2MORE',\n",
    "    'VAP',\n",
    "    'HVAP',\n",
    "    'WVAP',\n",
    "    'BVAP',\n",
    "    'AMINVAP',\n",
    "    'ASIANVAP',\n",
    "    'NHPIVAP',\n",
    "    'OTHERVAP',\n",
    "    '2MOREVAP']\n",
    "\n",
    "election_columns = [col for col in election_df.columns if col not in fixed_columns]\n",
    "final_col = fixed_columns + election_columns\n",
    "election_df = election_df[final_col]"
   ]
  },
  {
   "cell_type": "code",
   "execution_count": 63,
   "id": "ed597092-7d37-4b83-a745-3f9c78dff68f",
   "metadata": {
    "tags": []
   },
   "outputs": [
    {
     "data": {
      "text/plain": [
       "['PREC_ID20',\n",
       " 'COUNTY_ID20',\n",
       " 'COUNTY_NAM20',\n",
       " 'ENR_DESC20',\n",
       " 'CD',\n",
       " 'SEND',\n",
       " 'HDIST',\n",
       " 'TOTPOP',\n",
       " 'NH_2MORE',\n",
       " 'NH_AMIN',\n",
       " 'NH_ASIAN',\n",
       " 'NH_BLACK',\n",
       " 'NH_NHPI',\n",
       " 'NH_OTHER',\n",
       " 'NH_WHITE',\n",
       " 'HISP',\n",
       " 'H_AMIN',\n",
       " 'H_ASIAN',\n",
       " 'H_BLACK',\n",
       " 'H_NHPI',\n",
       " 'H_OTHER',\n",
       " 'H_WHITE',\n",
       " 'H_2MORE',\n",
       " 'VAP',\n",
       " 'HVAP',\n",
       " 'WVAP',\n",
       " 'BVAP',\n",
       " 'AMINVAP',\n",
       " 'ASIANVAP',\n",
       " 'NHPIVAP',\n",
       " 'OTHERVAP',\n",
       " '2MOREVAP',\n",
       " 'AGR16D',\n",
       " 'AGR16R',\n",
       " 'AGR20D',\n",
       " 'AGR20R',\n",
       " 'ATG16D',\n",
       " 'ATG16R',\n",
       " 'ATG20D',\n",
       " 'ATG20R',\n",
       " 'AUD16D',\n",
       " 'AUD16R',\n",
       " 'AUD20D',\n",
       " 'AUD20R',\n",
       " 'GOV16D',\n",
       " 'GOV16O',\n",
       " 'GOV16R',\n",
       " 'GOV20D',\n",
       " 'GOV20O',\n",
       " 'GOV20R',\n",
       " 'INS16D',\n",
       " 'INS16R',\n",
       " 'INS20D',\n",
       " 'INS20R',\n",
       " 'LAB16D',\n",
       " 'LAB16O',\n",
       " 'LAB16R',\n",
       " 'LAB20D',\n",
       " 'LAB20R',\n",
       " 'LTG16D',\n",
       " 'LTG16O',\n",
       " 'LTG16R',\n",
       " 'LTG20D',\n",
       " 'LTG20R',\n",
       " 'PRE16D',\n",
       " 'PRE16O',\n",
       " 'PRE16R',\n",
       " 'PRE20D',\n",
       " 'PRE20O',\n",
       " 'PRE20R',\n",
       " 'SAC16D',\n",
       " 'SAC16O',\n",
       " 'SAC16R',\n",
       " 'SAC18D',\n",
       " 'SAC18O',\n",
       " 'SAC18R',\n",
       " 'SAC20D',\n",
       " 'SAC20R',\n",
       " 'SOS16D',\n",
       " 'SOS16R',\n",
       " 'SOS20D',\n",
       " 'SOS20R',\n",
       " 'SPI16D',\n",
       " 'SPI16R',\n",
       " 'SPI20D',\n",
       " 'SPI20R',\n",
       " 'SSC16D',\n",
       " 'SSC16R',\n",
       " 'SSC18D',\n",
       " 'SSC18R',\n",
       " 'SSC20D',\n",
       " 'SSC20R',\n",
       " 'TRE16D',\n",
       " 'TRE16R',\n",
       " 'TRE20D',\n",
       " 'TRE20R',\n",
       " 'USS16D',\n",
       " 'USS16O',\n",
       " 'USS16R',\n",
       " 'USS20D',\n",
       " 'USS20O',\n",
       " 'USS20R',\n",
       " 'geometry']"
      ]
     },
     "execution_count": 63,
     "metadata": {},
     "output_type": "execute_result"
    }
   ],
   "source": [
    "list(election_df.columns)"
   ]
  },
  {
   "cell_type": "code",
   "execution_count": 64,
   "id": "1b198042-dbd4-408e-bfd4-4494f2b49245",
   "metadata": {
    "tags": []
   },
   "outputs": [],
   "source": [
    "directory = \"./{}\".format(state_ab)\n",
    "if not os.path.exists(directory):\n",
    "    os.makedirs(directory)\n",
    "\n",
    "shapefile_path = \"./{}/{}.shp\".format(state_ab, state_ab)\n",
    "geojson_path = './{}/{}.geojson'.format(state_ab, state_ab)\n",
    "json_path = \"./{}.json\".format(state_ab, state_ab)\n",
    "\n",
    "# Check if the shapefile or geojson file already exists\n",
    "if os.path.exists(shapefile_path):\n",
    "    os.remove(shapefile_path)\n",
    "if os.path.exists(geojson_path):\n",
    "    os.remove(geojson_path)\n",
    "\n",
    "election_df.to_file(shapefile_path)\n",
    "election_df.to_file(geojson_path, driver='GeoJSON')\n",
    "\n",
    "# Only do once to build json and read from file when generating ensembles\n",
    "graph = Graph.from_file(shapefile_path, ignore_errors=True)\n",
    "graph.to_json(json_path)"
   ]
  },
  {
   "cell_type": "code",
   "execution_count": 65,
   "id": "4f716494-e73d-4313-a708-3fdf18b782e3",
   "metadata": {},
   "outputs": [
    {
     "data": {
      "text/plain": [
       "<Axes: >"
      ]
     },
     "execution_count": 65,
     "metadata": {},
     "output_type": "execute_result"
    },
    {
     "data": {
      "image/png": "[encoded data removed]",
      "text/plain": [
       "<Figure size 640x480 with 1 Axes>"
      ]
     },
     "metadata": {},
     "output_type": "display_data"
    }
   ],
   "source": [
    "shapefile_path = \"./{}/{}.shp\".format(state_ab, state_ab)\n",
    "shape=gpd.read_file(shapefile_path)\n",
    "shape.plot()"
   ]
  },
  {
   "cell_type": "code",
   "execution_count": 66,
   "id": "fa8577fd-1191-4adb-8999-8cb2788ed54f",
   "metadata": {},
   "outputs": [
    {
     "data": {
      "text/plain": [
       "103"
      ]
     },
     "execution_count": 66,
     "metadata": {},
     "output_type": "execute_result"
    }
   ],
   "source": [
    "len(election_df.columns)"
   ]
  }
 ],
 "metadata": {
  "kernelspec": {
   "display_name": "gerry",
   "language": "python",
   "name": "gerry"
  },
  "language_info": {
   "codemirror_mode": {
    "name": "ipython",
    "version": 3
   },
   "file_extension": ".py",
   "mimetype": "text/x-python",
   "name": "python",
   "nbconvert_exporter": "python",
   "pygments_lexer": "ipython3",
   "version": "3.11.4"
  }
 },
 "nbformat": 4,
 "nbformat_minor": 5
}
